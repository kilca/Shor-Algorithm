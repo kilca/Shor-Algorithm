{
 "cells": [
  {
   "cell_type": "markdown",
   "metadata": {},
   "source": [
    "# Algorithme de Shor quantique avec Qiskit"
   ]
  },
  {
   "cell_type": "markdown",
   "metadata": {},
   "source": [
    "## Imports"
   ]
  },
  {
   "cell_type": "code",
   "execution_count": 66,
   "metadata": {},
   "outputs": [],
   "source": [
    "import numpy as np\n",
    "from math import pi, gcd\n",
    "from qiskit import *\n",
    "from qiskit.circuit import *\n",
    "from qiskit.extensions import *\n",
    "from qiskit.circuit.library import *\n",
    "from qiskit.extensions.simulator.snapshot import snapshot\n",
    "from qiskit.quantum_info.operators import Operator\n",
    "from qiskit.extensions.simulator.snapshot import snapshot\n",
    "from qiskit.compiler import transpile\n",
    "from qiskit.transpiler import PassManager\n",
    "from qiskit.transpiler.passes import Unroller\n",
    "from scipy import optimize\n",
    "from matplotlib.pyplot import plot,show\n",
    "%matplotlib inline\n",
    "%config InlineBackend.figure_format = 'svg' # Makes the images look nice"
   ]
  },
  {
   "cell_type": "code",
   "execution_count": 67,
   "metadata": {},
   "outputs": [],
   "source": [
    "from numpy import gcd\n",
    "from numpy.random import seed, randint\n",
    "# imports for Shor\n",
    "from qiskit import QuantumCircuit, Aer, execute\n",
    "from qiskit.visualization import plot_histogram\n",
    "from qiskit.circuit.library import QFT\n",
    "from fractions import Fraction"
   ]
  },
  {
   "cell_type": "markdown",
   "metadata": {},
   "source": [
    "### On prend un N et un a"
   ]
  },
  {
   "cell_type": "code",
   "execution_count": 68,
   "metadata": {},
   "outputs": [
    {
     "name": "stdout",
     "output_type": "stream",
     "text": [
      "valeur finies : \n",
      "N :  15\n",
      "a :  7\n"
     ]
    }
   ],
   "source": [
    "from math import gcd # greatest common divisor\n",
    "N = 15\n",
    "a = randint(2,N)\n",
    "\n",
    "a=7\n",
    "\n",
    "k = gcd(a,N)\n",
    "if (N%2 == 0):\n",
    "    print(\"trouve : 2\")\n",
    "if (k != 1):\n",
    "    P = k\n",
    "    Q = N // gcd(a, N)\n",
    "    print(\"Cout de chance, Facteur trivial trouve pour a=\",a)\n",
    "    print(f\"{P} x {Q} = {N}\")\n",
    "else:\n",
    "    print(\"valeur finies : \")\n",
    "    print(\"N : \",N)\n",
    "    print(\"a : \",a)"
   ]
  },
  {
   "cell_type": "markdown",
   "metadata": {},
   "source": [
    "# test 2"
   ]
  },
  {
   "cell_type": "markdown",
   "metadata": {},
   "source": [
    "Plutot que de faire un swap pour U, On initialise la matrice U représentant l'oracle permettant de savoir pour un indice sur la ligne s'il est mod de n"
   ]
  },
  {
   "cell_type": "markdown",
   "metadata": {},
   "source": [
    "La matrice U met ainsi les 1 tq avec x tq :\n",
    "\n",
    "f(x) -> a*x mod n\n",
    "\n",
    "avec les qubits en colonnes et lignes"
   ]
  },
  {
   "cell_type": "code",
   "execution_count": 69,
   "metadata": {},
   "outputs": [],
   "source": [
    "#Oracle\n",
    "def gateMult(a,N,n):\n",
    "    nn = 2 ** n\n",
    "    M = [[0 for x in range(nn)] for i in range(nn)]\n",
    "    for x in range(2**n):\n",
    "        res = x\n",
    "        if x<N:\n",
    "            res = (a*x)%N\n",
    "        M[res][x] = 1\n",
    "    U = Operator(M)\n",
    "    return(UnitaryGate(U))"
   ]
  },
  {
   "cell_type": "code",
   "execution_count": 70,
   "metadata": {},
   "outputs": [],
   "source": [
    "def qft_dagger(n):\n",
    "    qc = QuantumCircuit(n)\n",
    "    # Don't forget the Swaps!\n",
    "    for qubit in range(n//2):\n",
    "        qc.swap(qubit, n-qubit-1)\n",
    "    for j in range(n):\n",
    "        for m in range(j):\n",
    "            qc.cp(-np.pi/float(2**(j-m)), m, j)\n",
    "        qc.h(j)\n",
    "    qc.name = \"QFT†\"\n",
    "    return qc"
   ]
  },
  {
   "cell_type": "code",
   "execution_count": 71,
   "metadata": {},
   "outputs": [
    {
     "data": {
      "image/svg+xml": "<?xml version=\"1.0\" encoding=\"utf-8\" standalone=\"no\"?>\n<!DOCTYPE svg PUBLIC \"-//W3C//DTD SVG 1.1//EN\"\n  \"http://www.w3.org/Graphics/SVG/1.1/DTD/svg11.dtd\">\n<svg xmlns:xlink=\"http://www.w3.org/1999/xlink\" width=\"776.029669pt\" height=\"441.639394pt\" viewBox=\"0 0 776.029669 441.639394\" xmlns=\"http://www.w3.org/2000/svg\" version=\"1.1\">\n <metadata>\n  <rdf:RDF xmlns:dc=\"http://purl.org/dc/elements/1.1/\" xmlns:cc=\"http://creativecommons.org/ns#\" xmlns:rdf=\"http://www.w3.org/1999/02/22-rdf-syntax-ns#\">\n   <cc:Work>\n    <dc:type rdf:resource=\"http://purl.org/dc/dcmitype/StillImage\"/>\n    <dc:date>2022-02-24T23:09:32.294345</dc:date>\n    <dc:format>image/svg+xml</dc:format>\n    <dc:creator>\n     <cc:Agent>\n      <dc:title>Matplotlib v3.5.1, https://matplotlib.org/</dc:title>\n     </cc:Agent>\n    </dc:creator>\n   </cc:Work>\n  </rdf:RDF>\n </metadata>\n <defs>\n  <style type=\"text/css\">*{stroke-linejoin: round; stroke-linecap: butt}</style>\n </defs>\n <g id=\"figure_1\">\n  <g id=\"patch_1\">\n   <path d=\"M 0 441.639394 \nL 776.029669 441.639394 \nL 776.029669 0 \nL 0 0 \nz\n\" style=\"fill: #ffffff\"/>\n  </g>\n  <g id=\"axes_1\">\n   <g id=\"patch_2\">\n    <path d=\"M 596.570381 396.828692 \nL 608.387641 396.828692 \nL 602.479011 405.350755 \nz\n\" clip-path=\"url(#p8fe77c9631)\" style=\"fill: #778899\"/>\n   </g>\n   <g id=\"patch_3\">\n    <path d=\"M 642.021381 396.828692 \nL 653.838641 396.828692 \nL 647.930011 405.350755 \nz\n\" clip-path=\"url(#p8fe77c9631)\" style=\"fill: #778899\"/>\n   </g>\n   <g id=\"patch_4\">\n    <path d=\"M 687.47238 396.828692 \nL 699.28964 396.828692 \nL 693.38101 405.350755 \nz\n\" clip-path=\"url(#p8fe77c9631)\" style=\"fill: #778899\"/>\n   </g>\n   <g id=\"patch_5\">\n    <path d=\"M 732.92338 396.828692 \nL 744.740639 396.828692 \nL 738.832009 405.350755 \nz\n\" clip-path=\"url(#p8fe77c9631)\" style=\"fill: #778899\"/>\n   </g>\n   <g id=\"line2d_1\">\n    <path d=\"M 77.974478 43.5608 \nL 764.284569 43.5608 \n\" clip-path=\"url(#p8fe77c9631)\" style=\"fill: none; stroke: #000000; stroke-width: 2; stroke-linecap: square\"/>\n   </g>\n   <g id=\"line2d_2\">\n    <path d=\"M 77.974478 89.011799 \nL 764.284569 89.011799 \n\" clip-path=\"url(#p8fe77c9631)\" style=\"fill: none; stroke: #000000; stroke-width: 2; stroke-linecap: square\"/>\n   </g>\n   <g id=\"line2d_3\">\n    <path d=\"M 77.974478 134.462798 \nL 764.284569 134.462798 \n\" clip-path=\"url(#p8fe77c9631)\" style=\"fill: none; stroke: #000000; stroke-width: 2; stroke-linecap: square\"/>\n   </g>\n   <g id=\"line2d_4\">\n    <path d=\"M 77.974478 179.913798 \nL 764.284569 179.913798 \n\" clip-path=\"url(#p8fe77c9631)\" style=\"fill: none; stroke: #000000; stroke-width: 2; stroke-linecap: square\"/>\n   </g>\n   <g id=\"line2d_5\">\n    <path d=\"M 77.974478 225.364797 \nL 764.284569 225.364797 \n\" clip-path=\"url(#p8fe77c9631)\" style=\"fill: none; stroke: #000000; stroke-width: 2; stroke-linecap: square\"/>\n   </g>\n   <g id=\"line2d_6\">\n    <path d=\"M 77.974478 270.815796 \nL 764.284569 270.815796 \n\" clip-path=\"url(#p8fe77c9631)\" style=\"fill: none; stroke: #000000; stroke-width: 2; stroke-linecap: square\"/>\n   </g>\n   <g id=\"line2d_7\">\n    <path d=\"M 77.974478 316.266796 \nL 764.284569 316.266796 \n\" clip-path=\"url(#p8fe77c9631)\" style=\"fill: none; stroke: #000000; stroke-width: 2; stroke-linecap: square\"/>\n   </g>\n   <g id=\"line2d_8\">\n    <path d=\"M 77.974478 361.717795 \nL 764.284569 361.717795 \n\" clip-path=\"url(#p8fe77c9631)\" style=\"fill: none; stroke: #000000; stroke-width: 2; stroke-linecap: square\"/>\n   </g>\n   <g id=\"line2d_9\">\n    <path d=\"M 77.974478 405.691637 \nL 764.284569 405.691637 \n\" clip-path=\"url(#p8fe77c9631)\" style=\"fill: none; stroke: #778899; stroke-width: 2; stroke-linecap: square\"/>\n   </g>\n   <g id=\"line2d_10\">\n    <path d=\"M 77.974478 408.645952 \nL 764.284569 408.645952 \n\" clip-path=\"url(#p8fe77c9631)\" style=\"fill: none; stroke: #778899; stroke-width: 2; stroke-linecap: square\"/>\n   </g>\n   <g id=\"line2d_11\">\n    <path d=\"M 87.064678 411.713895 \nL 91.609778 402.623695 \n\" clip-path=\"url(#p8fe77c9631)\" style=\"fill: none; stroke: #778899; stroke-width: 1.5; stroke-linecap: square\"/>\n   </g>\n   <g id=\"line2d_12\">\n    <path d=\"M 170.694517 361.717795 \nL 170.694517 43.5608 \n\" clip-path=\"url(#p8fe77c9631)\" style=\"fill: none; stroke: #bb8bff; stroke-width: 2; stroke-linecap: square\"/>\n   </g>\n   <g id=\"line2d_13\">\n    <path d=\"M 261.596516 361.717795 \nL 261.596516 89.011799 \n\" clip-path=\"url(#p8fe77c9631)\" style=\"fill: none; stroke: #bb8bff; stroke-width: 2; stroke-linecap: square\"/>\n   </g>\n   <g id=\"line2d_14\">\n    <path d=\"M 352.498515 361.717795 \nL 352.498515 134.462798 \n\" clip-path=\"url(#p8fe77c9631)\" style=\"fill: none; stroke: #bb8bff; stroke-width: 2; stroke-linecap: square\"/>\n   </g>\n   <g id=\"line2d_15\">\n    <path d=\"M 443.400513 361.717795 \nL 443.400513 179.913798 \n\" clip-path=\"url(#p8fe77c9631)\" style=\"fill: none; stroke: #bb8bff; stroke-width: 2; stroke-linecap: square\"/>\n   </g>\n   <g id=\"line2d_16\">\n    <path d=\"M 603.956169 43.5608 \nL 603.956169 396.828692 \n\" clip-path=\"url(#p8fe77c9631)\" style=\"fill: none; stroke: #778899; stroke-width: 2; stroke-linecap: square\"/>\n   </g>\n   <g id=\"line2d_17\">\n    <path d=\"M 601.001854 43.5608 \nL 601.001854 396.828692 \n\" clip-path=\"url(#p8fe77c9631)\" style=\"fill: none; stroke: #778899; stroke-width: 2; stroke-linecap: square\"/>\n   </g>\n   <g id=\"line2d_18\">\n    <path d=\"M 649.407168 89.011799 \nL 649.407168 396.828692 \n\" clip-path=\"url(#p8fe77c9631)\" style=\"fill: none; stroke: #778899; stroke-width: 2; stroke-linecap: square\"/>\n   </g>\n   <g id=\"line2d_19\">\n    <path d=\"M 646.452853 89.011799 \nL 646.452853 396.828692 \n\" clip-path=\"url(#p8fe77c9631)\" style=\"fill: none; stroke: #778899; stroke-width: 2; stroke-linecap: square\"/>\n   </g>\n   <g id=\"line2d_20\">\n    <path d=\"M 694.858168 134.462798 \nL 694.858168 396.828692 \n\" clip-path=\"url(#p8fe77c9631)\" style=\"fill: none; stroke: #778899; stroke-width: 2; stroke-linecap: square\"/>\n   </g>\n   <g id=\"line2d_21\">\n    <path d=\"M 691.903853 134.462798 \nL 691.903853 396.828692 \n\" clip-path=\"url(#p8fe77c9631)\" style=\"fill: none; stroke: #778899; stroke-width: 2; stroke-linecap: square\"/>\n   </g>\n   <g id=\"line2d_22\">\n    <path d=\"M 740.309167 179.913798 \nL 740.309167 396.828692 \n\" clip-path=\"url(#p8fe77c9631)\" style=\"fill: none; stroke: #778899; stroke-width: 2; stroke-linecap: square\"/>\n   </g>\n   <g id=\"line2d_23\">\n    <path d=\"M 737.354852 179.913798 \nL 737.354852 396.828692 \n\" clip-path=\"url(#p8fe77c9631)\" style=\"fill: none; stroke: #778899; stroke-width: 2; stroke-linecap: square\"/>\n   </g>\n   <g id=\"patch_6\">\n    <path d=\"M 87.746443 376.48937 \nL 117.289593 376.48937 \nL 117.289593 346.94622 \nL 87.746443 346.94622 \nz\n\" clip-path=\"url(#p8fe77c9631)\" style=\"fill: #05bab6; stroke: #05bab6; stroke-width: 1.5; stroke-linejoin: miter\"/>\n   </g>\n   <g id=\"patch_7\">\n    <path d=\"M 87.746443 58.332374 \nL 117.289593 58.332374 \nL 117.289593 28.789225 \nL 87.746443 28.789225 \nz\n\" clip-path=\"url(#p8fe77c9631)\" style=\"fill: #6fa4ff; stroke: #6fa4ff; stroke-width: 1.5; stroke-linejoin: miter\"/>\n   </g>\n   <g id=\"patch_8\">\n    <path d=\"M 87.746443 103.783374 \nL 117.289593 103.783374 \nL 117.289593 74.240224 \nL 87.746443 74.240224 \nz\n\" clip-path=\"url(#p8fe77c9631)\" style=\"fill: #6fa4ff; stroke: #6fa4ff; stroke-width: 1.5; stroke-linejoin: miter\"/>\n   </g>\n   <g id=\"patch_9\">\n    <path d=\"M 87.746443 149.234373 \nL 117.289593 149.234373 \nL 117.289593 119.691224 \nL 87.746443 119.691224 \nz\n\" clip-path=\"url(#p8fe77c9631)\" style=\"fill: #6fa4ff; stroke: #6fa4ff; stroke-width: 1.5; stroke-linejoin: miter\"/>\n   </g>\n   <g id=\"patch_10\">\n    <path d=\"M 87.746443 194.685373 \nL 117.289593 194.685373 \nL 117.289593 165.142223 \nL 87.746443 165.142223 \nz\n\" clip-path=\"url(#p8fe77c9631)\" style=\"fill: #6fa4ff; stroke: #6fa4ff; stroke-width: 1.5; stroke-linejoin: miter\"/>\n   </g>\n   <g id=\"patch_11\">\n    <path d=\"M 170.694517 47.992272 \nC 171.869757 47.992272 172.997021 47.525344 173.828041 46.694324 \nC 174.659062 45.863303 175.125989 44.73604 175.125989 43.5608 \nC 175.125989 42.385559 174.659062 41.258296 173.828041 40.427275 \nC 172.997021 39.596255 171.869757 39.129327 170.694517 39.129327 \nC 169.519277 39.129327 168.392013 39.596255 167.560993 40.427275 \nC 166.729972 41.258296 166.263045 42.385559 166.263045 43.5608 \nC 166.263045 44.73604 166.729972 45.863303 167.560993 46.694324 \nC 168.392013 47.525344 169.519277 47.992272 170.694517 47.992272 \nz\n\" clip-path=\"url(#p8fe77c9631)\" style=\"fill: #bb8bff; stroke: #bb8bff; stroke-width: 1.5; stroke-linejoin: miter\"/>\n   </g>\n   <g id=\"patch_12\">\n    <path d=\"M 131.595295 376.48937 \nL 209.793739 376.48937 \nL 209.793739 210.593222 \nL 131.595295 210.593222 \nz\n\" clip-path=\"url(#p8fe77c9631)\" style=\"fill: #bb8bff; stroke: #bb8bff; stroke-width: 1.5; stroke-linejoin: miter\"/>\n   </g>\n   <g id=\"patch_13\">\n    <path d=\"M 261.596516 93.443271 \nC 262.771756 93.443271 263.89902 92.976343 264.73004 92.145323 \nC 265.56106 91.314303 266.027988 90.187039 266.027988 89.011799 \nC 266.027988 87.836559 265.56106 86.709295 264.73004 85.878275 \nC 263.89902 85.047254 262.771756 84.580326 261.596516 84.580326 \nC 260.421276 84.580326 259.294012 85.047254 258.462992 85.878275 \nC 257.631971 86.709295 257.165043 87.836559 257.165043 89.011799 \nC 257.165043 90.187039 257.631971 91.314303 258.462992 92.145323 \nC 259.294012 92.976343 260.421276 93.443271 261.596516 93.443271 \nz\n\" clip-path=\"url(#p8fe77c9631)\" style=\"fill: #bb8bff; stroke: #bb8bff; stroke-width: 1.5; stroke-linejoin: miter\"/>\n   </g>\n   <g id=\"patch_14\">\n    <path d=\"M 222.44957 376.48937 \nL 300.743462 376.48937 \nL 300.743462 210.593222 \nL 222.44957 210.593222 \nz\n\" clip-path=\"url(#p8fe77c9631)\" style=\"fill: #bb8bff; stroke: #bb8bff; stroke-width: 1.5; stroke-linejoin: miter\"/>\n   </g>\n   <g id=\"patch_15\">\n    <path d=\"M 352.498515 138.894271 \nC 353.673755 138.894271 354.801018 138.427343 355.632039 137.596323 \nC 356.463059 136.765302 356.929987 135.638039 356.929987 134.462798 \nC 356.929987 133.287558 356.463059 132.160294 355.632039 131.329274 \nC 354.801018 130.498254 353.673755 130.031326 352.498515 130.031326 \nC 351.323274 130.031326 350.196011 130.498254 349.36499 131.329274 \nC 348.53397 132.160294 348.067042 133.287558 348.067042 134.462798 \nC 348.067042 135.638039 348.53397 136.765302 349.36499 137.596323 \nC 350.196011 138.427343 351.323274 138.894271 352.498515 138.894271 \nz\n\" clip-path=\"url(#p8fe77c9631)\" style=\"fill: #bb8bff; stroke: #bb8bff; stroke-width: 1.5; stroke-linejoin: miter\"/>\n   </g>\n   <g id=\"patch_16\">\n    <path d=\"M 313.351569 376.48937 \nL 391.64546 376.48937 \nL 391.64546 210.593222 \nL 313.351569 210.593222 \nz\n\" clip-path=\"url(#p8fe77c9631)\" style=\"fill: #bb8bff; stroke: #bb8bff; stroke-width: 1.5; stroke-linejoin: miter\"/>\n   </g>\n   <g id=\"patch_17\">\n    <path d=\"M 443.400513 184.34527 \nC 444.575754 184.34527 445.703017 183.878342 446.534038 183.047322 \nC 447.365058 182.216302 447.831986 181.089038 447.831986 179.913798 \nC 447.831986 178.738557 447.365058 177.611294 446.534038 176.780273 \nC 445.703017 175.949253 444.575754 175.482325 443.400513 175.482325 \nC 442.225273 175.482325 441.098009 175.949253 440.266989 176.780273 \nC 439.435969 177.611294 438.969041 178.738557 438.969041 179.913798 \nC 438.969041 181.089038 439.435969 182.216302 440.266989 183.047322 \nC 441.098009 183.878342 442.225273 184.34527 443.400513 184.34527 \nz\n\" clip-path=\"url(#p8fe77c9631)\" style=\"fill: #bb8bff; stroke: #bb8bff; stroke-width: 1.5; stroke-linejoin: miter\"/>\n   </g>\n   <g id=\"patch_18\">\n    <path d=\"M 404.301291 376.48937 \nL 482.499736 376.48937 \nL 482.499736 210.593222 \nL 404.301291 210.593222 \nz\n\" clip-path=\"url(#p8fe77c9631)\" style=\"fill: #bb8bff; stroke: #bb8bff; stroke-width: 1.5; stroke-linejoin: miter\"/>\n   </g>\n   <g id=\"patch_19\">\n    <path d=\"M 512.345134 194.685373 \nL 556.25989 194.685373 \nL 556.25989 28.789225 \nL 512.345134 28.789225 \nz\n\" clip-path=\"url(#p8fe77c9631)\" style=\"fill: #bb8bff; stroke: #bb8bff; stroke-width: 1.5; stroke-linejoin: miter\"/>\n   </g>\n   <g id=\"patch_20\">\n    <path d=\"M 587.707436 58.332374 \nL 617.250586 58.332374 \nL 617.250586 28.789225 \nL 587.707436 28.789225 \nz\n\" clip-path=\"url(#p8fe77c9631)\" style=\"stroke: #000000; stroke-width: 1.5; stroke-linejoin: miter\"/>\n   </g>\n   <g id=\"patch_21\">\n    <path d=\"M 612.819114 47.992272 \nC 612.819114 45.250958 611.728969 42.619117 609.790568 40.680715 \nC 607.852166 38.742314 605.220325 37.65217 602.479011 37.65217 \nC 599.737697 37.65217 597.105856 38.742314 595.167455 40.680715 \nC 593.229053 42.619117 592.138909 45.250958 592.138909 47.992272 \n\" clip-path=\"url(#p8fe77c9631)\" style=\"fill: none; stroke: #ffffff; stroke-width: 2; stroke-linejoin: miter\"/>\n   </g>\n   <g id=\"line2d_24\">\n    <path d=\"M 602.479011 47.992272 \nL 612.819114 37.65217 \n\" clip-path=\"url(#p8fe77c9631)\" style=\"fill: none; stroke: #ffffff; stroke-width: 2; stroke-linecap: square\"/>\n   </g>\n   <g id=\"patch_22\">\n    <path d=\"M 633.158436 103.783374 \nL 662.701585 103.783374 \nL 662.701585 74.240224 \nL 633.158436 74.240224 \nz\n\" clip-path=\"url(#p8fe77c9631)\" style=\"stroke: #000000; stroke-width: 1.5; stroke-linejoin: miter\"/>\n   </g>\n   <g id=\"patch_23\">\n    <path d=\"M 658.270113 93.443271 \nC 658.270113 90.701957 657.179969 88.070117 655.241567 86.131715 \nC 653.303165 84.193313 650.671325 83.103169 647.930011 83.103169 \nC 645.188697 83.103169 642.556856 84.193313 640.618454 86.131715 \nC 638.680053 88.070117 637.589908 90.701957 637.589908 93.443271 \n\" clip-path=\"url(#p8fe77c9631)\" style=\"fill: none; stroke: #ffffff; stroke-width: 2; stroke-linejoin: miter\"/>\n   </g>\n   <g id=\"line2d_25\">\n    <path d=\"M 647.930011 93.443271 \nL 658.270113 83.103169 \n\" clip-path=\"url(#p8fe77c9631)\" style=\"fill: none; stroke: #ffffff; stroke-width: 2; stroke-linecap: square\"/>\n   </g>\n   <g id=\"patch_24\">\n    <path d=\"M 678.609435 149.234373 \nL 708.152585 149.234373 \nL 708.152585 119.691224 \nL 678.609435 119.691224 \nz\n\" clip-path=\"url(#p8fe77c9631)\" style=\"stroke: #000000; stroke-width: 1.5; stroke-linejoin: miter\"/>\n   </g>\n   <g id=\"patch_25\">\n    <path d=\"M 703.721112 138.894271 \nC 703.721112 136.152957 702.630968 133.521116 700.692567 131.582714 \nC 698.754165 129.644313 696.122324 128.554168 693.38101 128.554168 \nC 690.639696 128.554168 688.007855 129.644313 686.069454 131.582714 \nC 684.131052 133.521116 683.040908 136.152957 683.040908 138.894271 \n\" clip-path=\"url(#p8fe77c9631)\" style=\"fill: none; stroke: #ffffff; stroke-width: 2; stroke-linejoin: miter\"/>\n   </g>\n   <g id=\"line2d_26\">\n    <path d=\"M 693.38101 138.894271 \nL 703.721112 128.554168 \n\" clip-path=\"url(#p8fe77c9631)\" style=\"fill: none; stroke: #ffffff; stroke-width: 2; stroke-linecap: square\"/>\n   </g>\n   <g id=\"patch_26\">\n    <path d=\"M 724.060435 194.685373 \nL 753.603584 194.685373 \nL 753.603584 165.142223 \nL 724.060435 165.142223 \nz\n\" clip-path=\"url(#p8fe77c9631)\" style=\"stroke: #000000; stroke-width: 1.5; stroke-linejoin: miter\"/>\n   </g>\n   <g id=\"patch_27\">\n    <path d=\"M 749.172112 184.34527 \nC 749.172112 181.603956 748.081968 178.972115 746.143566 177.033714 \nC 744.205164 175.095312 741.573323 174.005168 738.832009 174.005168 \nC 736.090696 174.005168 733.458855 175.095312 731.520453 177.033714 \nC 729.582051 178.972115 728.491907 181.603956 728.491907 184.34527 \n\" clip-path=\"url(#p8fe77c9631)\" style=\"fill: none; stroke: #ffffff; stroke-width: 2; stroke-linejoin: miter\"/>\n   </g>\n   <g id=\"line2d_27\">\n    <path d=\"M 738.832009 184.34527 \nL 749.172112 174.005168 \n\" clip-path=\"url(#p8fe77c9631)\" style=\"fill: none; stroke: #ffffff; stroke-width: 2; stroke-linecap: square\"/>\n   </g>\n   <g id=\"text_1\">\n    <g clip-path=\"url(#p8fe77c9631)\">\n     <!-- ${eig}_{0}$ -->\n     <g transform=\"translate(36.221778 48.02955)scale(0.1625 -0.1625)\">\n      <defs>\n       <path id=\"DejaVuSans-Oblique-65\" d=\"M 3078 2063 \nQ 3088 2113 3092 2166 \nQ 3097 2219 3097 2272 \nQ 3097 2653 2873 2875 \nQ 2650 3097 2266 3097 \nQ 1838 3097 1509 2826 \nQ 1181 2556 1013 2059 \nL 3078 2063 \nz\nM 3578 1613 \nL 903 1613 \nQ 884 1494 878 1425 \nQ 872 1356 872 1306 \nQ 872 872 1139 634 \nQ 1406 397 1894 397 \nQ 2269 397 2603 481 \nQ 2938 566 3225 728 \nL 3116 159 \nQ 2806 34 2476 -28 \nQ 2147 -91 1806 -91 \nQ 1078 -91 686 257 \nQ 294 606 294 1247 \nQ 294 1794 489 2264 \nQ 684 2734 1063 3103 \nQ 1306 3334 1642 3459 \nQ 1978 3584 2356 3584 \nQ 2950 3584 3301 3228 \nQ 3653 2872 3653 2272 \nQ 3653 2128 3634 1964 \nQ 3616 1800 3578 1613 \nz\n\" transform=\"scale(0.015625)\"/>\n       <path id=\"DejaVuSans-Oblique-69\" d=\"M 1172 4863 \nL 1747 4863 \nL 1606 4134 \nL 1031 4134 \nL 1172 4863 \nz\nM 909 3500 \nL 1484 3500 \nL 800 0 \nL 225 0 \nL 909 3500 \nz\n\" transform=\"scale(0.015625)\"/>\n       <path id=\"DejaVuSans-Oblique-67\" d=\"M 3816 3500 \nL 3219 434 \nQ 3047 -456 2561 -893 \nQ 2075 -1331 1253 -1331 \nQ 950 -1331 690 -1286 \nQ 431 -1241 206 -1147 \nL 313 -588 \nQ 525 -725 762 -790 \nQ 1000 -856 1269 -856 \nQ 1816 -856 2167 -557 \nQ 2519 -259 2631 300 \nL 2681 563 \nQ 2441 288 2122 144 \nQ 1803 0 1434 0 \nQ 903 0 598 351 \nQ 294 703 294 1319 \nQ 294 1803 478 2267 \nQ 663 2731 997 3091 \nQ 1219 3328 1514 3456 \nQ 1809 3584 2131 3584 \nQ 2484 3584 2746 3420 \nQ 3009 3256 3138 2956 \nL 3238 3500 \nL 3816 3500 \nz\nM 2950 2216 \nQ 2950 2641 2750 2872 \nQ 2550 3103 2181 3103 \nQ 1953 3103 1747 3012 \nQ 1541 2922 1394 2759 \nQ 1156 2491 1023 2127 \nQ 891 1763 891 1375 \nQ 891 944 1092 712 \nQ 1294 481 1672 481 \nQ 2219 481 2584 976 \nQ 2950 1472 2950 2216 \nz\n\" transform=\"scale(0.015625)\"/>\n       <path id=\"DejaVuSans-30\" d=\"M 2034 4250 \nQ 1547 4250 1301 3770 \nQ 1056 3291 1056 2328 \nQ 1056 1369 1301 889 \nQ 1547 409 2034 409 \nQ 2525 409 2770 889 \nQ 3016 1369 3016 2328 \nQ 3016 3291 2770 3770 \nQ 2525 4250 2034 4250 \nz\nM 2034 4750 \nQ 2819 4750 3233 4129 \nQ 3647 3509 3647 2328 \nQ 3647 1150 3233 529 \nQ 2819 -91 2034 -91 \nQ 1250 -91 836 529 \nQ 422 1150 422 2328 \nQ 422 3509 836 4129 \nQ 1250 4750 2034 4750 \nz\n\" transform=\"scale(0.015625)\"/>\n      </defs>\n      <use xlink:href=\"#DejaVuSans-Oblique-65\" transform=\"translate(0 0.015625)\"/>\n      <use xlink:href=\"#DejaVuSans-Oblique-69\" transform=\"translate(61.523438 0.015625)\"/>\n      <use xlink:href=\"#DejaVuSans-Oblique-67\" transform=\"translate(89.306641 0.015625)\"/>\n      <use xlink:href=\"#DejaVuSans-30\" transform=\"translate(152.783203 -16.390625)scale(0.7)\"/>\n     </g>\n    </g>\n   </g>\n   <g id=\"text_2\">\n    <g clip-path=\"url(#p8fe77c9631)\">\n     <!-- ${eig}_{1}$ -->\n     <g transform=\"translate(36.221778 93.480549)scale(0.1625 -0.1625)\">\n      <defs>\n       <path id=\"DejaVuSans-31\" d=\"M 794 531 \nL 1825 531 \nL 1825 4091 \nL 703 3866 \nL 703 4441 \nL 1819 4666 \nL 2450 4666 \nL 2450 531 \nL 3481 531 \nL 3481 0 \nL 794 0 \nL 794 531 \nz\n\" transform=\"scale(0.015625)\"/>\n      </defs>\n      <use xlink:href=\"#DejaVuSans-Oblique-65\" transform=\"translate(0 0.015625)\"/>\n      <use xlink:href=\"#DejaVuSans-Oblique-69\" transform=\"translate(61.523438 0.015625)\"/>\n      <use xlink:href=\"#DejaVuSans-Oblique-67\" transform=\"translate(89.306641 0.015625)\"/>\n      <use xlink:href=\"#DejaVuSans-31\" transform=\"translate(152.783203 -16.390625)scale(0.7)\"/>\n     </g>\n    </g>\n   </g>\n   <g id=\"text_3\">\n    <g clip-path=\"url(#p8fe77c9631)\">\n     <!-- ${eig}_{2}$ -->\n     <g transform=\"translate(36.221778 138.931548)scale(0.1625 -0.1625)\">\n      <defs>\n       <path id=\"DejaVuSans-32\" d=\"M 1228 531 \nL 3431 531 \nL 3431 0 \nL 469 0 \nL 469 531 \nQ 828 903 1448 1529 \nQ 2069 2156 2228 2338 \nQ 2531 2678 2651 2914 \nQ 2772 3150 2772 3378 \nQ 2772 3750 2511 3984 \nQ 2250 4219 1831 4219 \nQ 1534 4219 1204 4116 \nQ 875 4013 500 3803 \nL 500 4441 \nQ 881 4594 1212 4672 \nQ 1544 4750 1819 4750 \nQ 2544 4750 2975 4387 \nQ 3406 4025 3406 3419 \nQ 3406 3131 3298 2873 \nQ 3191 2616 2906 2266 \nQ 2828 2175 2409 1742 \nQ 1991 1309 1228 531 \nz\n\" transform=\"scale(0.015625)\"/>\n      </defs>\n      <use xlink:href=\"#DejaVuSans-Oblique-65\" transform=\"translate(0 0.015625)\"/>\n      <use xlink:href=\"#DejaVuSans-Oblique-69\" transform=\"translate(61.523438 0.015625)\"/>\n      <use xlink:href=\"#DejaVuSans-Oblique-67\" transform=\"translate(89.306641 0.015625)\"/>\n      <use xlink:href=\"#DejaVuSans-32\" transform=\"translate(152.783203 -16.390625)scale(0.7)\"/>\n     </g>\n    </g>\n   </g>\n   <g id=\"text_4\">\n    <g clip-path=\"url(#p8fe77c9631)\">\n     <!-- ${eig}_{3}$ -->\n     <g transform=\"translate(36.221778 184.382548)scale(0.1625 -0.1625)\">\n      <defs>\n       <path id=\"DejaVuSans-33\" d=\"M 2597 2516 \nQ 3050 2419 3304 2112 \nQ 3559 1806 3559 1356 \nQ 3559 666 3084 287 \nQ 2609 -91 1734 -91 \nQ 1441 -91 1130 -33 \nQ 819 25 488 141 \nL 488 750 \nQ 750 597 1062 519 \nQ 1375 441 1716 441 \nQ 2309 441 2620 675 \nQ 2931 909 2931 1356 \nQ 2931 1769 2642 2001 \nQ 2353 2234 1838 2234 \nL 1294 2234 \nL 1294 2753 \nL 1863 2753 \nQ 2328 2753 2575 2939 \nQ 2822 3125 2822 3475 \nQ 2822 3834 2567 4026 \nQ 2313 4219 1838 4219 \nQ 1578 4219 1281 4162 \nQ 984 4106 628 3988 \nL 628 4550 \nQ 988 4650 1302 4700 \nQ 1616 4750 1894 4750 \nQ 2613 4750 3031 4423 \nQ 3450 4097 3450 3541 \nQ 3450 3153 3228 2886 \nQ 3006 2619 2597 2516 \nz\n\" transform=\"scale(0.015625)\"/>\n      </defs>\n      <use xlink:href=\"#DejaVuSans-Oblique-65\" transform=\"translate(0 0.015625)\"/>\n      <use xlink:href=\"#DejaVuSans-Oblique-69\" transform=\"translate(61.523438 0.015625)\"/>\n      <use xlink:href=\"#DejaVuSans-Oblique-67\" transform=\"translate(89.306641 0.015625)\"/>\n      <use xlink:href=\"#DejaVuSans-33\" transform=\"translate(152.783203 -16.390625)scale(0.7)\"/>\n     </g>\n    </g>\n   </g>\n   <g id=\"text_5\">\n    <g clip-path=\"url(#p8fe77c9631)\">\n     <!-- ${phi}_{0}$ -->\n     <g transform=\"translate(36.059278 229.833547)scale(0.1625 -0.1625)\">\n      <defs>\n       <path id=\"DejaVuSans-Oblique-70\" d=\"M 3175 2156 \nQ 3175 2616 2975 2859 \nQ 2775 3103 2400 3103 \nQ 2144 3103 1911 2972 \nQ 1678 2841 1497 2591 \nQ 1319 2344 1212 1994 \nQ 1106 1644 1106 1300 \nQ 1106 863 1306 627 \nQ 1506 391 1875 391 \nQ 2147 391 2380 519 \nQ 2613 647 2778 891 \nQ 2956 1147 3065 1494 \nQ 3175 1841 3175 2156 \nz\nM 1394 2969 \nQ 1625 3272 1939 3428 \nQ 2253 3584 2638 3584 \nQ 3175 3584 3472 3232 \nQ 3769 2881 3769 2247 \nQ 3769 1728 3584 1258 \nQ 3400 788 3053 416 \nQ 2822 169 2531 39 \nQ 2241 -91 1919 -91 \nQ 1547 -91 1294 64 \nQ 1041 219 916 525 \nL 556 -1331 \nL -19 -1331 \nL 922 3500 \nL 1497 3500 \nL 1394 2969 \nz\n\" transform=\"scale(0.015625)\"/>\n       <path id=\"DejaVuSans-Oblique-68\" d=\"M 3566 2113 \nL 3156 0 \nL 2578 0 \nL 2988 2091 \nQ 3016 2238 3031 2350 \nQ 3047 2463 3047 2528 \nQ 3047 2791 2881 2937 \nQ 2716 3084 2419 3084 \nQ 1956 3084 1617 2771 \nQ 1278 2459 1178 1941 \nL 800 0 \nL 225 0 \nL 1172 4863 \nL 1747 4863 \nL 1375 2950 \nQ 1594 3244 1934 3414 \nQ 2275 3584 2650 3584 \nQ 3113 3584 3367 3334 \nQ 3622 3084 3622 2631 \nQ 3622 2519 3608 2391 \nQ 3594 2263 3566 2113 \nz\n\" transform=\"scale(0.015625)\"/>\n      </defs>\n      <use xlink:href=\"#DejaVuSans-Oblique-70\" transform=\"translate(0 0.015625)\"/>\n      <use xlink:href=\"#DejaVuSans-Oblique-68\" transform=\"translate(63.476562 0.015625)\"/>\n      <use xlink:href=\"#DejaVuSans-Oblique-69\" transform=\"translate(126.855469 0.015625)\"/>\n      <use xlink:href=\"#DejaVuSans-30\" transform=\"translate(154.638672 -16.390625)scale(0.7)\"/>\n     </g>\n    </g>\n   </g>\n   <g id=\"text_6\">\n    <g clip-path=\"url(#p8fe77c9631)\">\n     <!-- ${phi}_{1}$ -->\n     <g transform=\"translate(36.059278 275.284546)scale(0.1625 -0.1625)\">\n      <use xlink:href=\"#DejaVuSans-Oblique-70\" transform=\"translate(0 0.015625)\"/>\n      <use xlink:href=\"#DejaVuSans-Oblique-68\" transform=\"translate(63.476562 0.015625)\"/>\n      <use xlink:href=\"#DejaVuSans-Oblique-69\" transform=\"translate(126.855469 0.015625)\"/>\n      <use xlink:href=\"#DejaVuSans-31\" transform=\"translate(154.638672 -16.390625)scale(0.7)\"/>\n     </g>\n    </g>\n   </g>\n   <g id=\"text_7\">\n    <g clip-path=\"url(#p8fe77c9631)\">\n     <!-- ${phi}_{2}$ -->\n     <g transform=\"translate(36.059278 320.735546)scale(0.1625 -0.1625)\">\n      <use xlink:href=\"#DejaVuSans-Oblique-70\" transform=\"translate(0 0.015625)\"/>\n      <use xlink:href=\"#DejaVuSans-Oblique-68\" transform=\"translate(63.476562 0.015625)\"/>\n      <use xlink:href=\"#DejaVuSans-Oblique-69\" transform=\"translate(126.855469 0.015625)\"/>\n      <use xlink:href=\"#DejaVuSans-32\" transform=\"translate(154.638672 -16.390625)scale(0.7)\"/>\n     </g>\n    </g>\n   </g>\n   <g id=\"text_8\">\n    <g clip-path=\"url(#p8fe77c9631)\">\n     <!-- ${phi}_{3}$ -->\n     <g transform=\"translate(36.059278 366.186545)scale(0.1625 -0.1625)\">\n      <use xlink:href=\"#DejaVuSans-Oblique-70\" transform=\"translate(0 0.015625)\"/>\n      <use xlink:href=\"#DejaVuSans-Oblique-68\" transform=\"translate(63.476562 0.015625)\"/>\n      <use xlink:href=\"#DejaVuSans-Oblique-69\" transform=\"translate(126.855469 0.015625)\"/>\n      <use xlink:href=\"#DejaVuSans-33\" transform=\"translate(154.638672 -16.390625)scale(0.7)\"/>\n     </g>\n    </g>\n   </g>\n   <g id=\"text_9\">\n    <g clip-path=\"url(#p8fe77c9631)\">\n     <!-- 4 -->\n     <g transform=\"translate(82.519578 400.46082)scale(0.104 -0.104)\">\n      <defs>\n       <path id=\"DejaVuSans-34\" d=\"M 2419 4116 \nL 825 1625 \nL 2419 1625 \nL 2419 4116 \nz\nM 2253 4666 \nL 3047 4666 \nL 3047 1625 \nL 3713 1625 \nL 3713 1100 \nL 3047 1100 \nL 3047 0 \nL 2419 0 \nL 2419 1100 \nL 313 1100 \nL 313 1709 \nL 2253 4666 \nz\n\" transform=\"scale(0.015625)\"/>\n      </defs>\n      <use xlink:href=\"#DejaVuSans-34\"/>\n     </g>\n    </g>\n   </g>\n   <g id=\"text_10\">\n    <g clip-path=\"url(#p8fe77c9631)\">\n     <!-- ceig -->\n     <g transform=\"translate(35.119825 411.652779)scale(0.1625 -0.1625)\">\n      <defs>\n       <path id=\"DejaVuSans-63\" d=\"M 3122 3366 \nL 3122 2828 \nQ 2878 2963 2633 3030 \nQ 2388 3097 2138 3097 \nQ 1578 3097 1268 2742 \nQ 959 2388 959 1747 \nQ 959 1106 1268 751 \nQ 1578 397 2138 397 \nQ 2388 397 2633 464 \nQ 2878 531 3122 666 \nL 3122 134 \nQ 2881 22 2623 -34 \nQ 2366 -91 2075 -91 \nQ 1284 -91 818 406 \nQ 353 903 353 1747 \nQ 353 2603 823 3093 \nQ 1294 3584 2113 3584 \nQ 2378 3584 2631 3529 \nQ 2884 3475 3122 3366 \nz\n\" transform=\"scale(0.015625)\"/>\n       <path id=\"DejaVuSans-65\" d=\"M 3597 1894 \nL 3597 1613 \nL 953 1613 \nQ 991 1019 1311 708 \nQ 1631 397 2203 397 \nQ 2534 397 2845 478 \nQ 3156 559 3463 722 \nL 3463 178 \nQ 3153 47 2828 -22 \nQ 2503 -91 2169 -91 \nQ 1331 -91 842 396 \nQ 353 884 353 1716 \nQ 353 2575 817 3079 \nQ 1281 3584 2069 3584 \nQ 2775 3584 3186 3129 \nQ 3597 2675 3597 1894 \nz\nM 3022 2063 \nQ 3016 2534 2758 2815 \nQ 2500 3097 2075 3097 \nQ 1594 3097 1305 2825 \nQ 1016 2553 972 2059 \nL 3022 2063 \nz\n\" transform=\"scale(0.015625)\"/>\n       <path id=\"DejaVuSans-69\" d=\"M 603 3500 \nL 1178 3500 \nL 1178 0 \nL 603 0 \nL 603 3500 \nz\nM 603 4863 \nL 1178 4863 \nL 1178 4134 \nL 603 4134 \nL 603 4863 \nz\n\" transform=\"scale(0.015625)\"/>\n       <path id=\"DejaVuSans-67\" d=\"M 2906 1791 \nQ 2906 2416 2648 2759 \nQ 2391 3103 1925 3103 \nQ 1463 3103 1205 2759 \nQ 947 2416 947 1791 \nQ 947 1169 1205 825 \nQ 1463 481 1925 481 \nQ 2391 481 2648 825 \nQ 2906 1169 2906 1791 \nz\nM 3481 434 \nQ 3481 -459 3084 -895 \nQ 2688 -1331 1869 -1331 \nQ 1566 -1331 1297 -1286 \nQ 1028 -1241 775 -1147 \nL 775 -588 \nQ 1028 -725 1275 -790 \nQ 1522 -856 1778 -856 \nQ 2344 -856 2625 -561 \nQ 2906 -266 2906 331 \nL 2906 616 \nQ 2728 306 2450 153 \nQ 2172 0 1784 0 \nQ 1141 0 747 490 \nQ 353 981 353 1791 \nQ 353 2603 747 3093 \nQ 1141 3584 1784 3584 \nQ 2172 3584 2450 3431 \nQ 2728 3278 2906 2969 \nL 2906 3500 \nL 3481 3500 \nL 3481 434 \nz\n\" transform=\"scale(0.015625)\"/>\n      </defs>\n      <use xlink:href=\"#DejaVuSans-63\"/>\n      <use xlink:href=\"#DejaVuSans-65\" x=\"54.980469\"/>\n      <use xlink:href=\"#DejaVuSans-69\" x=\"116.503906\"/>\n      <use xlink:href=\"#DejaVuSans-67\" x=\"144.287109\"/>\n     </g>\n    </g>\n   </g>\n   <g id=\"text_11\">\n    <g clip-path=\"url(#p8fe77c9631)\">\n     <!-- X -->\n     <g transform=\"translate(98.065518 365.304983)scale(0.13 -0.13)\">\n      <defs>\n       <path id=\"DejaVuSans-58\" d=\"M 403 4666 \nL 1081 4666 \nL 2241 2931 \nL 3406 4666 \nL 4084 4666 \nL 2584 2425 \nL 4184 0 \nL 3506 0 \nL 2194 1984 \nL 872 0 \nL 191 0 \nL 1856 2491 \nL 403 4666 \nz\n\" transform=\"scale(0.015625)\"/>\n      </defs>\n      <use xlink:href=\"#DejaVuSans-58\"/>\n     </g>\n    </g>\n   </g>\n   <g id=\"text_12\">\n    <g clip-path=\"url(#p8fe77c9631)\">\n     <!-- H -->\n     <g transform=\"translate(97.629815 47.147987)scale(0.13 -0.13)\">\n      <defs>\n       <path id=\"DejaVuSans-48\" d=\"M 628 4666 \nL 1259 4666 \nL 1259 2753 \nL 3553 2753 \nL 3553 4666 \nL 4184 4666 \nL 4184 0 \nL 3553 0 \nL 3553 2222 \nL 1259 2222 \nL 1259 0 \nL 628 0 \nL 628 4666 \nz\n\" transform=\"scale(0.015625)\"/>\n      </defs>\n      <use xlink:href=\"#DejaVuSans-48\"/>\n     </g>\n    </g>\n   </g>\n   <g id=\"text_13\">\n    <g clip-path=\"url(#p8fe77c9631)\">\n     <!-- H -->\n     <g transform=\"translate(97.629815 92.598986)scale(0.13 -0.13)\">\n      <use xlink:href=\"#DejaVuSans-48\"/>\n     </g>\n    </g>\n   </g>\n   <g id=\"text_14\">\n    <g clip-path=\"url(#p8fe77c9631)\">\n     <!-- H -->\n     <g transform=\"translate(97.629815 138.049986)scale(0.13 -0.13)\">\n      <use xlink:href=\"#DejaVuSans-48\"/>\n     </g>\n    </g>\n   </g>\n   <g id=\"text_15\">\n    <g clip-path=\"url(#p8fe77c9631)\">\n     <!-- H -->\n     <g transform=\"translate(97.629815 183.500985)scale(0.13 -0.13)\">\n      <use xlink:href=\"#DejaVuSans-48\"/>\n     </g>\n    </g>\n   </g>\n   <g id=\"text_16\">\n    <g clip-path=\"url(#p8fe77c9631)\">\n     <!-- 0 -->\n     <g transform=\"translate(134.776865 228.951985)scale(0.13 -0.13)\">\n      <use xlink:href=\"#DejaVuSans-30\"/>\n     </g>\n    </g>\n   </g>\n   <g id=\"text_17\">\n    <g clip-path=\"url(#p8fe77c9631)\">\n     <!-- 1 -->\n     <g transform=\"translate(134.776865 274.402984)scale(0.13 -0.13)\">\n      <use xlink:href=\"#DejaVuSans-31\"/>\n     </g>\n    </g>\n   </g>\n   <g id=\"text_18\">\n    <g clip-path=\"url(#p8fe77c9631)\">\n     <!-- 2 -->\n     <g transform=\"translate(134.776865 319.853983)scale(0.13 -0.13)\">\n      <use xlink:href=\"#DejaVuSans-32\"/>\n     </g>\n    </g>\n   </g>\n   <g id=\"text_19\">\n    <g clip-path=\"url(#p8fe77c9631)\">\n     <!-- 3 -->\n     <g transform=\"translate(134.776865 365.304983)scale(0.13 -0.13)\">\n      <use xlink:href=\"#DejaVuSans-33\"/>\n     </g>\n    </g>\n   </g>\n   <g id=\"text_20\">\n    <g clip-path=\"url(#p8fe77c9631)\">\n     <!-- unitary^8 -->\n     <g transform=\"translate(143.016393 297.128484)scale(0.13 -0.13)\">\n      <defs>\n       <path id=\"DejaVuSans-75\" d=\"M 544 1381 \nL 544 3500 \nL 1119 3500 \nL 1119 1403 \nQ 1119 906 1312 657 \nQ 1506 409 1894 409 \nQ 2359 409 2629 706 \nQ 2900 1003 2900 1516 \nL 2900 3500 \nL 3475 3500 \nL 3475 0 \nL 2900 0 \nL 2900 538 \nQ 2691 219 2414 64 \nQ 2138 -91 1772 -91 \nQ 1169 -91 856 284 \nQ 544 659 544 1381 \nz\nM 1991 3584 \nL 1991 3584 \nz\n\" transform=\"scale(0.015625)\"/>\n       <path id=\"DejaVuSans-6e\" d=\"M 3513 2113 \nL 3513 0 \nL 2938 0 \nL 2938 2094 \nQ 2938 2591 2744 2837 \nQ 2550 3084 2163 3084 \nQ 1697 3084 1428 2787 \nQ 1159 2491 1159 1978 \nL 1159 0 \nL 581 0 \nL 581 3500 \nL 1159 3500 \nL 1159 2956 \nQ 1366 3272 1645 3428 \nQ 1925 3584 2291 3584 \nQ 2894 3584 3203 3211 \nQ 3513 2838 3513 2113 \nz\n\" transform=\"scale(0.015625)\"/>\n       <path id=\"DejaVuSans-74\" d=\"M 1172 4494 \nL 1172 3500 \nL 2356 3500 \nL 2356 3053 \nL 1172 3053 \nL 1172 1153 \nQ 1172 725 1289 603 \nQ 1406 481 1766 481 \nL 2356 481 \nL 2356 0 \nL 1766 0 \nQ 1100 0 847 248 \nQ 594 497 594 1153 \nL 594 3053 \nL 172 3053 \nL 172 3500 \nL 594 3500 \nL 594 4494 \nL 1172 4494 \nz\n\" transform=\"scale(0.015625)\"/>\n       <path id=\"DejaVuSans-61\" d=\"M 2194 1759 \nQ 1497 1759 1228 1600 \nQ 959 1441 959 1056 \nQ 959 750 1161 570 \nQ 1363 391 1709 391 \nQ 2188 391 2477 730 \nQ 2766 1069 2766 1631 \nL 2766 1759 \nL 2194 1759 \nz\nM 3341 1997 \nL 3341 0 \nL 2766 0 \nL 2766 531 \nQ 2569 213 2275 61 \nQ 1981 -91 1556 -91 \nQ 1019 -91 701 211 \nQ 384 513 384 1019 \nQ 384 1609 779 1909 \nQ 1175 2209 1959 2209 \nL 2766 2209 \nL 2766 2266 \nQ 2766 2663 2505 2880 \nQ 2244 3097 1772 3097 \nQ 1472 3097 1187 3025 \nQ 903 2953 641 2809 \nL 641 3341 \nQ 956 3463 1253 3523 \nQ 1550 3584 1831 3584 \nQ 2591 3584 2966 3190 \nQ 3341 2797 3341 1997 \nz\n\" transform=\"scale(0.015625)\"/>\n       <path id=\"DejaVuSans-72\" d=\"M 2631 2963 \nQ 2534 3019 2420 3045 \nQ 2306 3072 2169 3072 \nQ 1681 3072 1420 2755 \nQ 1159 2438 1159 1844 \nL 1159 0 \nL 581 0 \nL 581 3500 \nL 1159 3500 \nL 1159 2956 \nQ 1341 3275 1631 3429 \nQ 1922 3584 2338 3584 \nQ 2397 3584 2469 3576 \nQ 2541 3569 2628 3553 \nL 2631 2963 \nz\n\" transform=\"scale(0.015625)\"/>\n       <path id=\"DejaVuSans-79\" d=\"M 2059 -325 \nQ 1816 -950 1584 -1140 \nQ 1353 -1331 966 -1331 \nL 506 -1331 \nL 506 -850 \nL 844 -850 \nQ 1081 -850 1212 -737 \nQ 1344 -625 1503 -206 \nL 1606 56 \nL 191 3500 \nL 800 3500 \nL 1894 763 \nL 2988 3500 \nL 3597 3500 \nL 2059 -325 \nz\n\" transform=\"scale(0.015625)\"/>\n       <path id=\"DejaVuSans-5e\" d=\"M 2988 4666 \nL 4684 2925 \nL 4056 2925 \nL 2681 4159 \nL 1306 2925 \nL 678 2925 \nL 2375 4666 \nL 2988 4666 \nz\n\" transform=\"scale(0.015625)\"/>\n       <path id=\"DejaVuSans-38\" d=\"M 2034 2216 \nQ 1584 2216 1326 1975 \nQ 1069 1734 1069 1313 \nQ 1069 891 1326 650 \nQ 1584 409 2034 409 \nQ 2484 409 2743 651 \nQ 3003 894 3003 1313 \nQ 3003 1734 2745 1975 \nQ 2488 2216 2034 2216 \nz\nM 1403 2484 \nQ 997 2584 770 2862 \nQ 544 3141 544 3541 \nQ 544 4100 942 4425 \nQ 1341 4750 2034 4750 \nQ 2731 4750 3128 4425 \nQ 3525 4100 3525 3541 \nQ 3525 3141 3298 2862 \nQ 3072 2584 2669 2484 \nQ 3125 2378 3379 2068 \nQ 3634 1759 3634 1313 \nQ 3634 634 3220 271 \nQ 2806 -91 2034 -91 \nQ 1263 -91 848 271 \nQ 434 634 434 1313 \nQ 434 1759 690 2068 \nQ 947 2378 1403 2484 \nz\nM 1172 3481 \nQ 1172 3119 1398 2916 \nQ 1625 2713 2034 2713 \nQ 2441 2713 2670 2916 \nQ 2900 3119 2900 3481 \nQ 2900 3844 2670 4047 \nQ 2441 4250 2034 4250 \nQ 1625 4250 1398 4047 \nQ 1172 3844 1172 3481 \nz\n\" transform=\"scale(0.015625)\"/>\n      </defs>\n      <use xlink:href=\"#DejaVuSans-75\"/>\n      <use xlink:href=\"#DejaVuSans-6e\" x=\"63.378906\"/>\n      <use xlink:href=\"#DejaVuSans-69\" x=\"126.757812\"/>\n      <use xlink:href=\"#DejaVuSans-74\" x=\"154.541016\"/>\n      <use xlink:href=\"#DejaVuSans-61\" x=\"193.75\"/>\n      <use xlink:href=\"#DejaVuSans-72\" x=\"255.029297\"/>\n      <use xlink:href=\"#DejaVuSans-79\" x=\"296.142578\"/>\n      <use xlink:href=\"#DejaVuSans-5e\" x=\"355.322266\"/>\n      <use xlink:href=\"#DejaVuSans-38\" x=\"439.111328\"/>\n     </g>\n    </g>\n   </g>\n   <g id=\"text_21\">\n    <g clip-path=\"url(#p8fe77c9631)\">\n     <!-- 0 -->\n     <g transform=\"translate(225.63114 228.951985)scale(0.13 -0.13)\">\n      <use xlink:href=\"#DejaVuSans-30\"/>\n     </g>\n    </g>\n   </g>\n   <g id=\"text_22\">\n    <g clip-path=\"url(#p8fe77c9631)\">\n     <!-- 1 -->\n     <g transform=\"translate(225.63114 274.402984)scale(0.13 -0.13)\">\n      <use xlink:href=\"#DejaVuSans-31\"/>\n     </g>\n    </g>\n   </g>\n   <g id=\"text_23\">\n    <g clip-path=\"url(#p8fe77c9631)\">\n     <!-- 2 -->\n     <g transform=\"translate(225.63114 319.853983)scale(0.13 -0.13)\">\n      <use xlink:href=\"#DejaVuSans-32\"/>\n     </g>\n    </g>\n   </g>\n   <g id=\"text_24\">\n    <g clip-path=\"url(#p8fe77c9631)\">\n     <!-- 3 -->\n     <g transform=\"translate(225.63114 365.304983)scale(0.13 -0.13)\">\n      <use xlink:href=\"#DejaVuSans-33\"/>\n     </g>\n    </g>\n   </g>\n   <g id=\"text_25\">\n    <g clip-path=\"url(#p8fe77c9631)\">\n     <!-- unitary^4 -->\n     <g transform=\"translate(233.918391 297.128484)scale(0.13 -0.13)\">\n      <use xlink:href=\"#DejaVuSans-75\"/>\n      <use xlink:href=\"#DejaVuSans-6e\" x=\"63.378906\"/>\n      <use xlink:href=\"#DejaVuSans-69\" x=\"126.757812\"/>\n      <use xlink:href=\"#DejaVuSans-74\" x=\"154.541016\"/>\n      <use xlink:href=\"#DejaVuSans-61\" x=\"193.75\"/>\n      <use xlink:href=\"#DejaVuSans-72\" x=\"255.029297\"/>\n      <use xlink:href=\"#DejaVuSans-79\" x=\"296.142578\"/>\n      <use xlink:href=\"#DejaVuSans-5e\" x=\"355.322266\"/>\n      <use xlink:href=\"#DejaVuSans-34\" x=\"439.111328\"/>\n     </g>\n    </g>\n   </g>\n   <g id=\"text_26\">\n    <g clip-path=\"url(#p8fe77c9631)\">\n     <!-- 0 -->\n     <g transform=\"translate(316.533139 228.951985)scale(0.13 -0.13)\">\n      <use xlink:href=\"#DejaVuSans-30\"/>\n     </g>\n    </g>\n   </g>\n   <g id=\"text_27\">\n    <g clip-path=\"url(#p8fe77c9631)\">\n     <!-- 1 -->\n     <g transform=\"translate(316.533139 274.402984)scale(0.13 -0.13)\">\n      <use xlink:href=\"#DejaVuSans-31\"/>\n     </g>\n    </g>\n   </g>\n   <g id=\"text_28\">\n    <g clip-path=\"url(#p8fe77c9631)\">\n     <!-- 2 -->\n     <g transform=\"translate(316.533139 319.853983)scale(0.13 -0.13)\">\n      <use xlink:href=\"#DejaVuSans-32\"/>\n     </g>\n    </g>\n   </g>\n   <g id=\"text_29\">\n    <g clip-path=\"url(#p8fe77c9631)\">\n     <!-- 3 -->\n     <g transform=\"translate(316.533139 365.304983)scale(0.13 -0.13)\">\n      <use xlink:href=\"#DejaVuSans-33\"/>\n     </g>\n    </g>\n   </g>\n   <g id=\"text_30\">\n    <g clip-path=\"url(#p8fe77c9631)\">\n     <!-- unitary^2 -->\n     <g transform=\"translate(324.82039 297.128484)scale(0.13 -0.13)\">\n      <use xlink:href=\"#DejaVuSans-75\"/>\n      <use xlink:href=\"#DejaVuSans-6e\" x=\"63.378906\"/>\n      <use xlink:href=\"#DejaVuSans-69\" x=\"126.757812\"/>\n      <use xlink:href=\"#DejaVuSans-74\" x=\"154.541016\"/>\n      <use xlink:href=\"#DejaVuSans-61\" x=\"193.75\"/>\n      <use xlink:href=\"#DejaVuSans-72\" x=\"255.029297\"/>\n      <use xlink:href=\"#DejaVuSans-79\" x=\"296.142578\"/>\n      <use xlink:href=\"#DejaVuSans-5e\" x=\"355.322266\"/>\n      <use xlink:href=\"#DejaVuSans-32\" x=\"439.111328\"/>\n     </g>\n    </g>\n   </g>\n   <g id=\"text_31\">\n    <g clip-path=\"url(#p8fe77c9631)\">\n     <!-- 0 -->\n     <g transform=\"translate(407.482861 228.951985)scale(0.13 -0.13)\">\n      <use xlink:href=\"#DejaVuSans-30\"/>\n     </g>\n    </g>\n   </g>\n   <g id=\"text_32\">\n    <g clip-path=\"url(#p8fe77c9631)\">\n     <!-- 1 -->\n     <g transform=\"translate(407.482861 274.402984)scale(0.13 -0.13)\">\n      <use xlink:href=\"#DejaVuSans-31\"/>\n     </g>\n    </g>\n   </g>\n   <g id=\"text_33\">\n    <g clip-path=\"url(#p8fe77c9631)\">\n     <!-- 2 -->\n     <g transform=\"translate(407.482861 319.853983)scale(0.13 -0.13)\">\n      <use xlink:href=\"#DejaVuSans-32\"/>\n     </g>\n    </g>\n   </g>\n   <g id=\"text_34\">\n    <g clip-path=\"url(#p8fe77c9631)\">\n     <!-- 3 -->\n     <g transform=\"translate(407.482861 365.304983)scale(0.13 -0.13)\">\n      <use xlink:href=\"#DejaVuSans-33\"/>\n     </g>\n    </g>\n   </g>\n   <g id=\"text_35\">\n    <g clip-path=\"url(#p8fe77c9631)\">\n     <!-- unitary^1 -->\n     <g transform=\"translate(415.722389 297.128484)scale(0.13 -0.13)\">\n      <use xlink:href=\"#DejaVuSans-75\"/>\n      <use xlink:href=\"#DejaVuSans-6e\" x=\"63.378906\"/>\n      <use xlink:href=\"#DejaVuSans-69\" x=\"126.757812\"/>\n      <use xlink:href=\"#DejaVuSans-74\" x=\"154.541016\"/>\n      <use xlink:href=\"#DejaVuSans-61\" x=\"193.75\"/>\n      <use xlink:href=\"#DejaVuSans-72\" x=\"255.029297\"/>\n      <use xlink:href=\"#DejaVuSans-79\" x=\"296.142578\"/>\n      <use xlink:href=\"#DejaVuSans-5e\" x=\"355.322266\"/>\n      <use xlink:href=\"#DejaVuSans-31\" x=\"439.111328\"/>\n     </g>\n    </g>\n   </g>\n   <g id=\"text_36\">\n    <g clip-path=\"url(#p8fe77c9631)\">\n     <!-- 0 -->\n     <g transform=\"translate(515.526704 47.147987)scale(0.13 -0.13)\">\n      <use xlink:href=\"#DejaVuSans-30\"/>\n     </g>\n    </g>\n   </g>\n   <g id=\"text_37\">\n    <g clip-path=\"url(#p8fe77c9631)\">\n     <!-- 1 -->\n     <g transform=\"translate(515.526704 92.598986)scale(0.13 -0.13)\">\n      <use xlink:href=\"#DejaVuSans-31\"/>\n     </g>\n    </g>\n   </g>\n   <g id=\"text_38\">\n    <g clip-path=\"url(#p8fe77c9631)\">\n     <!-- 2 -->\n     <g transform=\"translate(515.526704 138.049986)scale(0.13 -0.13)\">\n      <use xlink:href=\"#DejaVuSans-32\"/>\n     </g>\n    </g>\n   </g>\n   <g id=\"text_39\">\n    <g clip-path=\"url(#p8fe77c9631)\">\n     <!-- 3 -->\n     <g transform=\"translate(515.526704 183.500985)scale(0.13 -0.13)\">\n      <use xlink:href=\"#DejaVuSans-33\"/>\n     </g>\n    </g>\n   </g>\n   <g id=\"text_40\">\n    <g clip-path=\"url(#p8fe77c9631)\">\n     <!-- QFT† -->\n     <g transform=\"translate(523.34056 115.324486)scale(0.13 -0.13)\">\n      <defs>\n       <path id=\"DejaVuSans-51\" d=\"M 2522 4238 \nQ 1834 4238 1429 3725 \nQ 1025 3213 1025 2328 \nQ 1025 1447 1429 934 \nQ 1834 422 2522 422 \nQ 3209 422 3611 934 \nQ 4013 1447 4013 2328 \nQ 4013 3213 3611 3725 \nQ 3209 4238 2522 4238 \nz\nM 3406 84 \nL 4238 -825 \nL 3475 -825 \nL 2784 -78 \nQ 2681 -84 2626 -87 \nQ 2572 -91 2522 -91 \nQ 1538 -91 948 567 \nQ 359 1225 359 2328 \nQ 359 3434 948 4092 \nQ 1538 4750 2522 4750 \nQ 3503 4750 4090 4092 \nQ 4678 3434 4678 2328 \nQ 4678 1516 4351 937 \nQ 4025 359 3406 84 \nz\n\" transform=\"scale(0.015625)\"/>\n       <path id=\"DejaVuSans-46\" d=\"M 628 4666 \nL 3309 4666 \nL 3309 4134 \nL 1259 4134 \nL 1259 2759 \nL 3109 2759 \nL 3109 2228 \nL 1259 2228 \nL 1259 0 \nL 628 0 \nL 628 4666 \nz\n\" transform=\"scale(0.015625)\"/>\n       <path id=\"DejaVuSans-54\" d=\"M -19 4666 \nL 3928 4666 \nL 3928 4134 \nL 2272 4134 \nL 2272 0 \nL 1638 0 \nL 1638 4134 \nL -19 4134 \nL -19 4666 \nz\n\" transform=\"scale(0.015625)\"/>\n       <path id=\"DejaVuSans-2020\" d=\"M 1325 4666 \nL 1875 4666 \nL 1875 3353 \nL 3022 3353 \nL 3022 2875 \nL 1875 2875 \nL 1875 -616 \nL 1325 -616 \nL 1325 2875 \nL 178 2875 \nL 178 3353 \nL 1325 3353 \nL 1325 4666 \nz\n\" transform=\"scale(0.015625)\"/>\n      </defs>\n      <use xlink:href=\"#DejaVuSans-51\"/>\n      <use xlink:href=\"#DejaVuSans-46\" x=\"78.710938\"/>\n      <use xlink:href=\"#DejaVuSans-54\" x=\"134.480469\"/>\n      <use xlink:href=\"#DejaVuSans-2020\" x=\"195.564453\"/>\n     </g>\n    </g>\n   </g>\n   <g id=\"text_41\">\n    <g clip-path=\"url(#p8fe77c9631)\">\n     <!-- 0 -->\n     <g transform=\"translate(613.841761 400.46082)scale(0.104 -0.104)\">\n      <use xlink:href=\"#DejaVuSans-30\"/>\n     </g>\n    </g>\n   </g>\n   <g id=\"text_42\">\n    <g clip-path=\"url(#p8fe77c9631)\">\n     <!-- 1 -->\n     <g transform=\"translate(659.29276 400.46082)scale(0.104 -0.104)\">\n      <use xlink:href=\"#DejaVuSans-31\"/>\n     </g>\n    </g>\n   </g>\n   <g id=\"text_43\">\n    <g clip-path=\"url(#p8fe77c9631)\">\n     <!-- 2 -->\n     <g transform=\"translate(704.74376 400.46082)scale(0.104 -0.104)\">\n      <use xlink:href=\"#DejaVuSans-32\"/>\n     </g>\n    </g>\n   </g>\n   <g id=\"text_44\">\n    <g clip-path=\"url(#p8fe77c9631)\">\n     <!-- 3 -->\n     <g transform=\"translate(750.194759 400.46082)scale(0.104 -0.104)\">\n      <use xlink:href=\"#DejaVuSans-33\"/>\n     </g>\n    </g>\n   </g>\n  </g>\n </g>\n <defs>\n  <clipPath id=\"p8fe77c9631\">\n   <rect x=\"7.2\" y=\"7.2\" width=\"761.629669\" height=\"427.239394\"/>\n  </clipPath>\n </defs>\n</svg>\n",
      "text/plain": [
       "<Figure size 1008.78x565.88 with 1 Axes>"
      ]
     },
     "execution_count": 71,
     "metadata": {},
     "output_type": "execute_result"
    }
   ],
   "source": [
    "m = int(np.ceil(np.log2(N)))\n",
    "#Comme on fais pas un oracle swap, on simplifie avec :\n",
    "t = m#t = 2*m\n",
    "\n",
    "size_eig = t\n",
    "size_phi = m\n",
    "\n",
    "eig = QuantumRegister(size_eig, name=\"eig\")\n",
    "phi = QuantumRegister(size_phi, name=\"phi\")\n",
    "ceig = ClassicalRegister(size_eig, name=\"ceig\")\n",
    "qc = QuantumCircuit(eig,phi,ceig)\n",
    "\n",
    "qc.x(t+m-1)\n",
    "\n",
    "#On initialise pas car marche ici et l'autre simulateur n'aime pas la fonction initialize\n",
    "'''\n",
    "for i in range(0,size_eig):\n",
    "    qc.initialize(0,i)\n",
    "\n",
    "qc.initialize(1,size_eig)\n",
    "\n",
    "for i in range(size_eig+1,size_eig+size_phi):\n",
    "    qc.initialize(0,i)\n",
    "'''\n",
    "\n",
    "for i in range(0,size_eig):\n",
    "    qc.h(eig[i])\n",
    "\n",
    "for i in range(0,size_eig):\n",
    "    qc.append(gateMult(a,N,size_phi).power(2**(size_eig-i-1)).control(),[i]+ list(range(t,t+m)))\n",
    "\n",
    "#QFT Inverse : \n",
    "\n",
    "#qc.append(QFT(size_eig).inverse(),eig)\n",
    "qc.append(qft_dagger(t), range(t))\n",
    "\n",
    "for i in range(0, size_eig):\n",
    "    qc.measure(eig[i],ceig[i])\n",
    "\n",
    "qc.draw('mpl',fold=-1)"
   ]
  },
  {
   "cell_type": "markdown",
   "metadata": {},
   "source": [
    "## Determination avec la phase d'un simulateur"
   ]
  },
  {
   "cell_type": "markdown",
   "metadata": {},
   "source": [
    "Verification avec le simulateur aer determinant r a partir de la solution la plus probable\n",
    "et supposant avec a^r mod N"
   ]
  },
  {
   "cell_type": "code",
   "execution_count": 72,
   "metadata": {},
   "outputs": [],
   "source": [
    "nbShots = 1\n",
    "if (N <= 15):\n",
    "    nbShots = 100\n",
    "elif(N > 15 and N<=35):\n",
    "    nbShots = 5"
   ]
  },
  {
   "cell_type": "code",
   "execution_count": 73,
   "metadata": {},
   "outputs": [
    {
     "name": "stdout",
     "output_type": "stream",
     "text": [
      "Register Reading: 1111\n",
      "Corresponding Phase: 0.937500\n",
      "r: 15\n",
      "ne marche pas dans l'algo pure, mais ok dans celui la\n",
      "guesses :  [3, 1]\n"
     ]
    }
   ],
   "source": [
    "aer_sim = Aer.get_backend('aer_simulator')\n",
    "# Setting memory=True below allows us to see a list of each sequential reading\n",
    "t_qc = transpile(qc, aer_sim)\n",
    "qobj = assemble(t_qc, shots=nbShots)\n",
    "result = aer_sim.run(qobj, memory=True).result()\n",
    "readings = result.get_memory()\n",
    "print(\"Register Reading: \" + readings[0])\n",
    "phase = int(readings[0],2)/(2**m)\n",
    "print(\"Corresponding Phase: %f\" % phase)\n",
    "frac = Fraction(phase).limit_denominator(15)\n",
    "s, r = frac.numerator, frac.denominator\n",
    "print(\"r:\",r)\n",
    "\n",
    "if(phase==0):\n",
    "    print(\"erreur, tenter un autre a\")\n",
    "if(r%2 == 1):\n",
    "    print(\"ne marche pas dans l'algo pure, mais ok dans celui la\")\n",
    "guesses = [gcd(a**(r//2)-1, N), gcd(a**(r//2)+1, N)]\n",
    "print(\"guesses : \",guesses)"
   ]
  },
  {
   "cell_type": "code",
   "execution_count": 74,
   "metadata": {},
   "outputs": [
    {
     "name": "stdout",
     "output_type": "stream",
     "text": [
      "trouve :  15 = 3 * 5\n"
     ]
    }
   ],
   "source": [
    "if (guesses[0] == 1 and guesses[1] == 1):\n",
    "    print(\"perdu, pas trouve, go tenter un autre a\")\n",
    "elif(guesses[0] != 1):\n",
    "    print(\"trouve : \",N,\"=\",guesses[0],\"*\",int(N/guesses[0]))\n",
    "elif(guesses[1] != 1):\n",
    "    print(\"trouve : \",N,\"=\",guesses[1],\"*\",int(N/guesses[1]))"
   ]
  },
  {
   "cell_type": "code",
   "execution_count": 75,
   "metadata": {},
   "outputs": [
    {
     "data": {
      "image/svg+xml": "<?xml version=\"1.0\" encoding=\"utf-8\" standalone=\"no\"?>\n<!DOCTYPE svg PUBLIC \"-//W3C//DTD SVG 1.1//EN\"\n  \"http://www.w3.org/Graphics/SVG/1.1/DTD/svg11.dtd\">\n<svg xmlns:xlink=\"http://www.w3.org/1999/xlink\" width=\"460.72125pt\" height=\"331.315407pt\" viewBox=\"0 0 460.72125 331.315407\" xmlns=\"http://www.w3.org/2000/svg\" version=\"1.1\">\n <metadata>\n  <rdf:RDF xmlns:dc=\"http://purl.org/dc/elements/1.1/\" xmlns:cc=\"http://creativecommons.org/ns#\" xmlns:rdf=\"http://www.w3.org/1999/02/22-rdf-syntax-ns#\">\n   <cc:Work>\n    <dc:type rdf:resource=\"http://purl.org/dc/dcmitype/StillImage\"/>\n    <dc:date>2022-02-24T23:09:44.741378</dc:date>\n    <dc:format>image/svg+xml</dc:format>\n    <dc:creator>\n     <cc:Agent>\n      <dc:title>Matplotlib v3.5.1, https://matplotlib.org/</dc:title>\n     </cc:Agent>\n    </dc:creator>\n   </cc:Work>\n  </rdf:RDF>\n </metadata>\n <defs>\n  <style type=\"text/css\">*{stroke-linejoin: round; stroke-linecap: butt}</style>\n </defs>\n <g id=\"figure_1\">\n  <g id=\"patch_1\">\n   <path d=\"M 0 331.315407 \nL 460.72125 331.315407 \nL 460.72125 0 \nL 0 0 \nL 0 331.315407 \nz\n\" style=\"fill: none\"/>\n  </g>\n  <g id=\"axes_1\">\n   <g id=\"patch_2\">\n    <path d=\"M 62.92125 279 \nL 453.52125 279 \nL 453.52125 7.2 \nL 62.92125 7.2 \nz\n\" style=\"fill: #ffffff\"/>\n   </g>\n   <g id=\"matplotlib.axis_1\">\n    <g id=\"xtick_1\">\n     <g id=\"line2d_1\">\n      <defs>\n       <path id=\"meda0b6c032\" d=\"M 0 0 \nL 0 3.5 \n\" style=\"stroke: #000000; stroke-width: 0.8\"/>\n      </defs>\n      <g>\n       <use xlink:href=\"#meda0b6c032\" x=\"90.020293\" y=\"279\" style=\"stroke: #000000; stroke-width: 0.8\"/>\n      </g>\n     </g>\n     <g id=\"text_1\">\n      <!-- 0000 -->\n      <g transform=\"translate(87.557354 323.119594)rotate(-70)scale(0.14 -0.14)\">\n       <defs>\n        <path id=\"DejaVuSans-30\" d=\"M 2034 4250 \nQ 1547 4250 1301 3770 \nQ 1056 3291 1056 2328 \nQ 1056 1369 1301 889 \nQ 1547 409 2034 409 \nQ 2525 409 2770 889 \nQ 3016 1369 3016 2328 \nQ 3016 3291 2770 3770 \nQ 2525 4250 2034 4250 \nz\nM 2034 4750 \nQ 2819 4750 3233 4129 \nQ 3647 3509 3647 2328 \nQ 3647 1150 3233 529 \nQ 2819 -91 2034 -91 \nQ 1250 -91 836 529 \nQ 422 1150 422 2328 \nQ 422 3509 836 4129 \nQ 1250 4750 2034 4750 \nz\n\" transform=\"scale(0.015625)\"/>\n       </defs>\n       <use xlink:href=\"#DejaVuSans-30\"/>\n       <use xlink:href=\"#DejaVuSans-30\" x=\"63.623047\"/>\n       <use xlink:href=\"#DejaVuSans-30\" x=\"127.246094\"/>\n       <use xlink:href=\"#DejaVuSans-30\" x=\"190.869141\"/>\n      </g>\n     </g>\n    </g>\n    <g id=\"xtick_2\">\n     <g id=\"line2d_2\">\n      <g>\n       <use xlink:href=\"#meda0b6c032\" x=\"127.398283\" y=\"279\" style=\"stroke: #000000; stroke-width: 0.8\"/>\n      </g>\n     </g>\n     <g id=\"text_2\">\n      <!-- 0001 -->\n      <g transform=\"translate(124.935345 323.119594)rotate(-70)scale(0.14 -0.14)\">\n       <defs>\n        <path id=\"DejaVuSans-31\" d=\"M 794 531 \nL 1825 531 \nL 1825 4091 \nL 703 3866 \nL 703 4441 \nL 1819 4666 \nL 2450 4666 \nL 2450 531 \nL 3481 531 \nL 3481 0 \nL 794 0 \nL 794 531 \nz\n\" transform=\"scale(0.015625)\"/>\n       </defs>\n       <use xlink:href=\"#DejaVuSans-30\"/>\n       <use xlink:href=\"#DejaVuSans-30\" x=\"63.623047\"/>\n       <use xlink:href=\"#DejaVuSans-30\" x=\"127.246094\"/>\n       <use xlink:href=\"#DejaVuSans-31\" x=\"190.869141\"/>\n      </g>\n     </g>\n    </g>\n    <g id=\"xtick_3\">\n     <g id=\"line2d_3\">\n      <g>\n       <use xlink:href=\"#meda0b6c032\" x=\"164.776274\" y=\"279\" style=\"stroke: #000000; stroke-width: 0.8\"/>\n      </g>\n     </g>\n     <g id=\"text_3\">\n      <!-- 0010 -->\n      <g transform=\"translate(162.313335 323.119594)rotate(-70)scale(0.14 -0.14)\">\n       <use xlink:href=\"#DejaVuSans-30\"/>\n       <use xlink:href=\"#DejaVuSans-30\" x=\"63.623047\"/>\n       <use xlink:href=\"#DejaVuSans-31\" x=\"127.246094\"/>\n       <use xlink:href=\"#DejaVuSans-30\" x=\"190.869141\"/>\n      </g>\n     </g>\n    </g>\n    <g id=\"xtick_4\">\n     <g id=\"line2d_4\">\n      <g>\n       <use xlink:href=\"#meda0b6c032\" x=\"202.154264\" y=\"279\" style=\"stroke: #000000; stroke-width: 0.8\"/>\n      </g>\n     </g>\n     <g id=\"text_4\">\n      <!-- 0011 -->\n      <g transform=\"translate(199.691326 323.119594)rotate(-70)scale(0.14 -0.14)\">\n       <use xlink:href=\"#DejaVuSans-30\"/>\n       <use xlink:href=\"#DejaVuSans-30\" x=\"63.623047\"/>\n       <use xlink:href=\"#DejaVuSans-31\" x=\"127.246094\"/>\n       <use xlink:href=\"#DejaVuSans-31\" x=\"190.869141\"/>\n      </g>\n     </g>\n    </g>\n    <g id=\"xtick_5\">\n     <g id=\"line2d_5\">\n      <g>\n       <use xlink:href=\"#meda0b6c032\" x=\"239.532255\" y=\"279\" style=\"stroke: #000000; stroke-width: 0.8\"/>\n      </g>\n     </g>\n     <g id=\"text_5\">\n      <!-- 0101 -->\n      <g transform=\"translate(237.069316 323.119594)rotate(-70)scale(0.14 -0.14)\">\n       <use xlink:href=\"#DejaVuSans-30\"/>\n       <use xlink:href=\"#DejaVuSans-31\" x=\"63.623047\"/>\n       <use xlink:href=\"#DejaVuSans-30\" x=\"127.246094\"/>\n       <use xlink:href=\"#DejaVuSans-31\" x=\"190.869141\"/>\n      </g>\n     </g>\n    </g>\n    <g id=\"xtick_6\">\n     <g id=\"line2d_6\">\n      <g>\n       <use xlink:href=\"#meda0b6c032\" x=\"276.910245\" y=\"279\" style=\"stroke: #000000; stroke-width: 0.8\"/>\n      </g>\n     </g>\n     <g id=\"text_6\">\n      <!-- 0110 -->\n      <g transform=\"translate(274.447306 323.119594)rotate(-70)scale(0.14 -0.14)\">\n       <use xlink:href=\"#DejaVuSans-30\"/>\n       <use xlink:href=\"#DejaVuSans-31\" x=\"63.623047\"/>\n       <use xlink:href=\"#DejaVuSans-31\" x=\"127.246094\"/>\n       <use xlink:href=\"#DejaVuSans-30\" x=\"190.869141\"/>\n      </g>\n     </g>\n    </g>\n    <g id=\"xtick_7\">\n     <g id=\"line2d_7\">\n      <g>\n       <use xlink:href=\"#meda0b6c032\" x=\"314.288236\" y=\"279\" style=\"stroke: #000000; stroke-width: 0.8\"/>\n      </g>\n     </g>\n     <g id=\"text_7\">\n      <!-- 1010 -->\n      <g transform=\"translate(311.825297 323.119594)rotate(-70)scale(0.14 -0.14)\">\n       <use xlink:href=\"#DejaVuSans-31\"/>\n       <use xlink:href=\"#DejaVuSans-30\" x=\"63.623047\"/>\n       <use xlink:href=\"#DejaVuSans-31\" x=\"127.246094\"/>\n       <use xlink:href=\"#DejaVuSans-30\" x=\"190.869141\"/>\n      </g>\n     </g>\n    </g>\n    <g id=\"xtick_8\">\n     <g id=\"line2d_8\">\n      <g>\n       <use xlink:href=\"#meda0b6c032\" x=\"351.666226\" y=\"279\" style=\"stroke: #000000; stroke-width: 0.8\"/>\n      </g>\n     </g>\n     <g id=\"text_8\">\n      <!-- 1101 -->\n      <g transform=\"translate(349.203287 323.119594)rotate(-70)scale(0.14 -0.14)\">\n       <use xlink:href=\"#DejaVuSans-31\"/>\n       <use xlink:href=\"#DejaVuSans-31\" x=\"63.623047\"/>\n       <use xlink:href=\"#DejaVuSans-30\" x=\"127.246094\"/>\n       <use xlink:href=\"#DejaVuSans-31\" x=\"190.869141\"/>\n      </g>\n     </g>\n    </g>\n    <g id=\"xtick_9\">\n     <g id=\"line2d_9\">\n      <g>\n       <use xlink:href=\"#meda0b6c032\" x=\"389.044217\" y=\"279\" style=\"stroke: #000000; stroke-width: 0.8\"/>\n      </g>\n     </g>\n     <g id=\"text_9\">\n      <!-- 1110 -->\n      <g transform=\"translate(386.581278 323.119594)rotate(-70)scale(0.14 -0.14)\">\n       <use xlink:href=\"#DejaVuSans-31\"/>\n       <use xlink:href=\"#DejaVuSans-31\" x=\"63.623047\"/>\n       <use xlink:href=\"#DejaVuSans-31\" x=\"127.246094\"/>\n       <use xlink:href=\"#DejaVuSans-30\" x=\"190.869141\"/>\n      </g>\n     </g>\n    </g>\n    <g id=\"xtick_10\">\n     <g id=\"line2d_10\">\n      <g>\n       <use xlink:href=\"#meda0b6c032\" x=\"426.422207\" y=\"279\" style=\"stroke: #000000; stroke-width: 0.8\"/>\n      </g>\n     </g>\n     <g id=\"text_10\">\n      <!-- 1111 -->\n      <g transform=\"translate(423.959268 323.119594)rotate(-70)scale(0.14 -0.14)\">\n       <use xlink:href=\"#DejaVuSans-31\"/>\n       <use xlink:href=\"#DejaVuSans-31\" x=\"63.623047\"/>\n       <use xlink:href=\"#DejaVuSans-31\" x=\"127.246094\"/>\n       <use xlink:href=\"#DejaVuSans-31\" x=\"190.869141\"/>\n      </g>\n     </g>\n    </g>\n   </g>\n   <g id=\"matplotlib.axis_2\">\n    <g id=\"ytick_1\">\n     <g id=\"line2d_11\">\n      <path d=\"M 62.92125 279 \nL 453.52125 279 \n\" clip-path=\"url(#pe923802da3)\" style=\"fill: none; stroke-dasharray: 2.96,1.28; stroke-dashoffset: 0; stroke: #b0b0b0; stroke-width: 0.8\"/>\n     </g>\n     <g id=\"line2d_12\">\n      <defs>\n       <path id=\"m4196e68c41\" d=\"M 0 0 \nL -3.5 0 \n\" style=\"stroke: #000000; stroke-width: 0.8\"/>\n      </defs>\n      <g>\n       <use xlink:href=\"#m4196e68c41\" x=\"62.92125\" y=\"279\" style=\"stroke: #000000; stroke-width: 0.8\"/>\n      </g>\n     </g>\n     <g id=\"text_11\">\n      <!-- 0.00 -->\n      <g transform=\"translate(24.749375 284.318906)scale(0.14 -0.14)\">\n       <defs>\n        <path id=\"DejaVuSans-2e\" d=\"M 684 794 \nL 1344 794 \nL 1344 0 \nL 684 0 \nL 684 794 \nz\n\" transform=\"scale(0.015625)\"/>\n       </defs>\n       <use xlink:href=\"#DejaVuSans-30\"/>\n       <use xlink:href=\"#DejaVuSans-2e\" x=\"63.623047\"/>\n       <use xlink:href=\"#DejaVuSans-30\" x=\"95.410156\"/>\n       <use xlink:href=\"#DejaVuSans-30\" x=\"159.033203\"/>\n      </g>\n     </g>\n    </g>\n    <g id=\"ytick_2\">\n     <g id=\"line2d_13\">\n      <path d=\"M 62.92125 217.227273 \nL 453.52125 217.227273 \n\" clip-path=\"url(#pe923802da3)\" style=\"fill: none; stroke-dasharray: 2.96,1.28; stroke-dashoffset: 0; stroke: #b0b0b0; stroke-width: 0.8\"/>\n     </g>\n     <g id=\"line2d_14\">\n      <g>\n       <use xlink:href=\"#m4196e68c41\" x=\"62.92125\" y=\"217.227273\" style=\"stroke: #000000; stroke-width: 0.8\"/>\n      </g>\n     </g>\n     <g id=\"text_12\">\n      <!-- 0.06 -->\n      <g transform=\"translate(24.749375 222.546179)scale(0.14 -0.14)\">\n       <defs>\n        <path id=\"DejaVuSans-36\" d=\"M 2113 2584 \nQ 1688 2584 1439 2293 \nQ 1191 2003 1191 1497 \nQ 1191 994 1439 701 \nQ 1688 409 2113 409 \nQ 2538 409 2786 701 \nQ 3034 994 3034 1497 \nQ 3034 2003 2786 2293 \nQ 2538 2584 2113 2584 \nz\nM 3366 4563 \nL 3366 3988 \nQ 3128 4100 2886 4159 \nQ 2644 4219 2406 4219 \nQ 1781 4219 1451 3797 \nQ 1122 3375 1075 2522 \nQ 1259 2794 1537 2939 \nQ 1816 3084 2150 3084 \nQ 2853 3084 3261 2657 \nQ 3669 2231 3669 1497 \nQ 3669 778 3244 343 \nQ 2819 -91 2113 -91 \nQ 1303 -91 875 529 \nQ 447 1150 447 2328 \nQ 447 3434 972 4092 \nQ 1497 4750 2381 4750 \nQ 2619 4750 2861 4703 \nQ 3103 4656 3366 4563 \nz\n\" transform=\"scale(0.015625)\"/>\n       </defs>\n       <use xlink:href=\"#DejaVuSans-30\"/>\n       <use xlink:href=\"#DejaVuSans-2e\" x=\"63.623047\"/>\n       <use xlink:href=\"#DejaVuSans-30\" x=\"95.410156\"/>\n       <use xlink:href=\"#DejaVuSans-36\" x=\"159.033203\"/>\n      </g>\n     </g>\n    </g>\n    <g id=\"ytick_3\">\n     <g id=\"line2d_15\">\n      <path d=\"M 62.92125 155.454545 \nL 453.52125 155.454545 \n\" clip-path=\"url(#pe923802da3)\" style=\"fill: none; stroke-dasharray: 2.96,1.28; stroke-dashoffset: 0; stroke: #b0b0b0; stroke-width: 0.8\"/>\n     </g>\n     <g id=\"line2d_16\">\n      <g>\n       <use xlink:href=\"#m4196e68c41\" x=\"62.92125\" y=\"155.454545\" style=\"stroke: #000000; stroke-width: 0.8\"/>\n      </g>\n     </g>\n     <g id=\"text_13\">\n      <!-- 0.12 -->\n      <g transform=\"translate(24.749375 160.773452)scale(0.14 -0.14)\">\n       <defs>\n        <path id=\"DejaVuSans-32\" d=\"M 1228 531 \nL 3431 531 \nL 3431 0 \nL 469 0 \nL 469 531 \nQ 828 903 1448 1529 \nQ 2069 2156 2228 2338 \nQ 2531 2678 2651 2914 \nQ 2772 3150 2772 3378 \nQ 2772 3750 2511 3984 \nQ 2250 4219 1831 4219 \nQ 1534 4219 1204 4116 \nQ 875 4013 500 3803 \nL 500 4441 \nQ 881 4594 1212 4672 \nQ 1544 4750 1819 4750 \nQ 2544 4750 2975 4387 \nQ 3406 4025 3406 3419 \nQ 3406 3131 3298 2873 \nQ 3191 2616 2906 2266 \nQ 2828 2175 2409 1742 \nQ 1991 1309 1228 531 \nz\n\" transform=\"scale(0.015625)\"/>\n       </defs>\n       <use xlink:href=\"#DejaVuSans-30\"/>\n       <use xlink:href=\"#DejaVuSans-2e\" x=\"63.623047\"/>\n       <use xlink:href=\"#DejaVuSans-31\" x=\"95.410156\"/>\n       <use xlink:href=\"#DejaVuSans-32\" x=\"159.033203\"/>\n      </g>\n     </g>\n    </g>\n    <g id=\"ytick_4\">\n     <g id=\"line2d_17\">\n      <path d=\"M 62.92125 93.681818 \nL 453.52125 93.681818 \n\" clip-path=\"url(#pe923802da3)\" style=\"fill: none; stroke-dasharray: 2.96,1.28; stroke-dashoffset: 0; stroke: #b0b0b0; stroke-width: 0.8\"/>\n     </g>\n     <g id=\"line2d_18\">\n      <g>\n       <use xlink:href=\"#m4196e68c41\" x=\"62.92125\" y=\"93.681818\" style=\"stroke: #000000; stroke-width: 0.8\"/>\n      </g>\n     </g>\n     <g id=\"text_14\">\n      <!-- 0.18 -->\n      <g transform=\"translate(24.749375 99.000724)scale(0.14 -0.14)\">\n       <defs>\n        <path id=\"DejaVuSans-38\" d=\"M 2034 2216 \nQ 1584 2216 1326 1975 \nQ 1069 1734 1069 1313 \nQ 1069 891 1326 650 \nQ 1584 409 2034 409 \nQ 2484 409 2743 651 \nQ 3003 894 3003 1313 \nQ 3003 1734 2745 1975 \nQ 2488 2216 2034 2216 \nz\nM 1403 2484 \nQ 997 2584 770 2862 \nQ 544 3141 544 3541 \nQ 544 4100 942 4425 \nQ 1341 4750 2034 4750 \nQ 2731 4750 3128 4425 \nQ 3525 4100 3525 3541 \nQ 3525 3141 3298 2862 \nQ 3072 2584 2669 2484 \nQ 3125 2378 3379 2068 \nQ 3634 1759 3634 1313 \nQ 3634 634 3220 271 \nQ 2806 -91 2034 -91 \nQ 1263 -91 848 271 \nQ 434 634 434 1313 \nQ 434 1759 690 2068 \nQ 947 2378 1403 2484 \nz\nM 1172 3481 \nQ 1172 3119 1398 2916 \nQ 1625 2713 2034 2713 \nQ 2441 2713 2670 2916 \nQ 2900 3119 2900 3481 \nQ 2900 3844 2670 4047 \nQ 2441 4250 2034 4250 \nQ 1625 4250 1398 4047 \nQ 1172 3844 1172 3481 \nz\n\" transform=\"scale(0.015625)\"/>\n       </defs>\n       <use xlink:href=\"#DejaVuSans-30\"/>\n       <use xlink:href=\"#DejaVuSans-2e\" x=\"63.623047\"/>\n       <use xlink:href=\"#DejaVuSans-31\" x=\"95.410156\"/>\n       <use xlink:href=\"#DejaVuSans-38\" x=\"159.033203\"/>\n      </g>\n     </g>\n    </g>\n    <g id=\"ytick_5\">\n     <g id=\"line2d_19\">\n      <path d=\"M 62.92125 31.909091 \nL 453.52125 31.909091 \n\" clip-path=\"url(#pe923802da3)\" style=\"fill: none; stroke-dasharray: 2.96,1.28; stroke-dashoffset: 0; stroke: #b0b0b0; stroke-width: 0.8\"/>\n     </g>\n     <g id=\"line2d_20\">\n      <g>\n       <use xlink:href=\"#m4196e68c41\" x=\"62.92125\" y=\"31.909091\" style=\"stroke: #000000; stroke-width: 0.8\"/>\n      </g>\n     </g>\n     <g id=\"text_15\">\n      <!-- 0.24 -->\n      <g transform=\"translate(24.749375 37.227997)scale(0.14 -0.14)\">\n       <defs>\n        <path id=\"DejaVuSans-34\" d=\"M 2419 4116 \nL 825 1625 \nL 2419 1625 \nL 2419 4116 \nz\nM 2253 4666 \nL 3047 4666 \nL 3047 1625 \nL 3713 1625 \nL 3713 1100 \nL 3047 1100 \nL 3047 0 \nL 2419 0 \nL 2419 1100 \nL 313 1100 \nL 313 1709 \nL 2253 4666 \nz\n\" transform=\"scale(0.015625)\"/>\n       </defs>\n       <use xlink:href=\"#DejaVuSans-30\"/>\n       <use xlink:href=\"#DejaVuSans-2e\" x=\"63.623047\"/>\n       <use xlink:href=\"#DejaVuSans-32\" x=\"95.410156\"/>\n       <use xlink:href=\"#DejaVuSans-34\" x=\"159.033203\"/>\n      </g>\n     </g>\n    </g>\n    <g id=\"text_16\">\n     <!-- Probabilities -->\n     <g transform=\"translate(17.837813 185.855781)rotate(-90)scale(0.14 -0.14)\">\n      <defs>\n       <path id=\"DejaVuSans-50\" d=\"M 1259 4147 \nL 1259 2394 \nL 2053 2394 \nQ 2494 2394 2734 2622 \nQ 2975 2850 2975 3272 \nQ 2975 3691 2734 3919 \nQ 2494 4147 2053 4147 \nL 1259 4147 \nz\nM 628 4666 \nL 2053 4666 \nQ 2838 4666 3239 4311 \nQ 3641 3956 3641 3272 \nQ 3641 2581 3239 2228 \nQ 2838 1875 2053 1875 \nL 1259 1875 \nL 1259 0 \nL 628 0 \nL 628 4666 \nz\n\" transform=\"scale(0.015625)\"/>\n       <path id=\"DejaVuSans-72\" d=\"M 2631 2963 \nQ 2534 3019 2420 3045 \nQ 2306 3072 2169 3072 \nQ 1681 3072 1420 2755 \nQ 1159 2438 1159 1844 \nL 1159 0 \nL 581 0 \nL 581 3500 \nL 1159 3500 \nL 1159 2956 \nQ 1341 3275 1631 3429 \nQ 1922 3584 2338 3584 \nQ 2397 3584 2469 3576 \nQ 2541 3569 2628 3553 \nL 2631 2963 \nz\n\" transform=\"scale(0.015625)\"/>\n       <path id=\"DejaVuSans-6f\" d=\"M 1959 3097 \nQ 1497 3097 1228 2736 \nQ 959 2375 959 1747 \nQ 959 1119 1226 758 \nQ 1494 397 1959 397 \nQ 2419 397 2687 759 \nQ 2956 1122 2956 1747 \nQ 2956 2369 2687 2733 \nQ 2419 3097 1959 3097 \nz\nM 1959 3584 \nQ 2709 3584 3137 3096 \nQ 3566 2609 3566 1747 \nQ 3566 888 3137 398 \nQ 2709 -91 1959 -91 \nQ 1206 -91 779 398 \nQ 353 888 353 1747 \nQ 353 2609 779 3096 \nQ 1206 3584 1959 3584 \nz\n\" transform=\"scale(0.015625)\"/>\n       <path id=\"DejaVuSans-62\" d=\"M 3116 1747 \nQ 3116 2381 2855 2742 \nQ 2594 3103 2138 3103 \nQ 1681 3103 1420 2742 \nQ 1159 2381 1159 1747 \nQ 1159 1113 1420 752 \nQ 1681 391 2138 391 \nQ 2594 391 2855 752 \nQ 3116 1113 3116 1747 \nz\nM 1159 2969 \nQ 1341 3281 1617 3432 \nQ 1894 3584 2278 3584 \nQ 2916 3584 3314 3078 \nQ 3713 2572 3713 1747 \nQ 3713 922 3314 415 \nQ 2916 -91 2278 -91 \nQ 1894 -91 1617 61 \nQ 1341 213 1159 525 \nL 1159 0 \nL 581 0 \nL 581 4863 \nL 1159 4863 \nL 1159 2969 \nz\n\" transform=\"scale(0.015625)\"/>\n       <path id=\"DejaVuSans-61\" d=\"M 2194 1759 \nQ 1497 1759 1228 1600 \nQ 959 1441 959 1056 \nQ 959 750 1161 570 \nQ 1363 391 1709 391 \nQ 2188 391 2477 730 \nQ 2766 1069 2766 1631 \nL 2766 1759 \nL 2194 1759 \nz\nM 3341 1997 \nL 3341 0 \nL 2766 0 \nL 2766 531 \nQ 2569 213 2275 61 \nQ 1981 -91 1556 -91 \nQ 1019 -91 701 211 \nQ 384 513 384 1019 \nQ 384 1609 779 1909 \nQ 1175 2209 1959 2209 \nL 2766 2209 \nL 2766 2266 \nQ 2766 2663 2505 2880 \nQ 2244 3097 1772 3097 \nQ 1472 3097 1187 3025 \nQ 903 2953 641 2809 \nL 641 3341 \nQ 956 3463 1253 3523 \nQ 1550 3584 1831 3584 \nQ 2591 3584 2966 3190 \nQ 3341 2797 3341 1997 \nz\n\" transform=\"scale(0.015625)\"/>\n       <path id=\"DejaVuSans-69\" d=\"M 603 3500 \nL 1178 3500 \nL 1178 0 \nL 603 0 \nL 603 3500 \nz\nM 603 4863 \nL 1178 4863 \nL 1178 4134 \nL 603 4134 \nL 603 4863 \nz\n\" transform=\"scale(0.015625)\"/>\n       <path id=\"DejaVuSans-6c\" d=\"M 603 4863 \nL 1178 4863 \nL 1178 0 \nL 603 0 \nL 603 4863 \nz\n\" transform=\"scale(0.015625)\"/>\n       <path id=\"DejaVuSans-74\" d=\"M 1172 4494 \nL 1172 3500 \nL 2356 3500 \nL 2356 3053 \nL 1172 3053 \nL 1172 1153 \nQ 1172 725 1289 603 \nQ 1406 481 1766 481 \nL 2356 481 \nL 2356 0 \nL 1766 0 \nQ 1100 0 847 248 \nQ 594 497 594 1153 \nL 594 3053 \nL 172 3053 \nL 172 3500 \nL 594 3500 \nL 594 4494 \nL 1172 4494 \nz\n\" transform=\"scale(0.015625)\"/>\n       <path id=\"DejaVuSans-65\" d=\"M 3597 1894 \nL 3597 1613 \nL 953 1613 \nQ 991 1019 1311 708 \nQ 1631 397 2203 397 \nQ 2534 397 2845 478 \nQ 3156 559 3463 722 \nL 3463 178 \nQ 3153 47 2828 -22 \nQ 2503 -91 2169 -91 \nQ 1331 -91 842 396 \nQ 353 884 353 1716 \nQ 353 2575 817 3079 \nQ 1281 3584 2069 3584 \nQ 2775 3584 3186 3129 \nQ 3597 2675 3597 1894 \nz\nM 3022 2063 \nQ 3016 2534 2758 2815 \nQ 2500 3097 2075 3097 \nQ 1594 3097 1305 2825 \nQ 1016 2553 972 2059 \nL 3022 2063 \nz\n\" transform=\"scale(0.015625)\"/>\n       <path id=\"DejaVuSans-73\" d=\"M 2834 3397 \nL 2834 2853 \nQ 2591 2978 2328 3040 \nQ 2066 3103 1784 3103 \nQ 1356 3103 1142 2972 \nQ 928 2841 928 2578 \nQ 928 2378 1081 2264 \nQ 1234 2150 1697 2047 \nL 1894 2003 \nQ 2506 1872 2764 1633 \nQ 3022 1394 3022 966 \nQ 3022 478 2636 193 \nQ 2250 -91 1575 -91 \nQ 1294 -91 989 -36 \nQ 684 19 347 128 \nL 347 722 \nQ 666 556 975 473 \nQ 1284 391 1588 391 \nQ 1994 391 2212 530 \nQ 2431 669 2431 922 \nQ 2431 1156 2273 1281 \nQ 2116 1406 1581 1522 \nL 1381 1569 \nQ 847 1681 609 1914 \nQ 372 2147 372 2553 \nQ 372 3047 722 3315 \nQ 1072 3584 1716 3584 \nQ 2034 3584 2315 3537 \nQ 2597 3491 2834 3397 \nz\n\" transform=\"scale(0.015625)\"/>\n      </defs>\n      <use xlink:href=\"#DejaVuSans-50\"/>\n      <use xlink:href=\"#DejaVuSans-72\" x=\"58.552734\"/>\n      <use xlink:href=\"#DejaVuSans-6f\" x=\"97.416016\"/>\n      <use xlink:href=\"#DejaVuSans-62\" x=\"158.597656\"/>\n      <use xlink:href=\"#DejaVuSans-61\" x=\"222.074219\"/>\n      <use xlink:href=\"#DejaVuSans-62\" x=\"283.353516\"/>\n      <use xlink:href=\"#DejaVuSans-69\" x=\"346.830078\"/>\n      <use xlink:href=\"#DejaVuSans-6c\" x=\"374.613281\"/>\n      <use xlink:href=\"#DejaVuSans-69\" x=\"402.396484\"/>\n      <use xlink:href=\"#DejaVuSans-74\" x=\"430.179688\"/>\n      <use xlink:href=\"#DejaVuSans-69\" x=\"469.388672\"/>\n      <use xlink:href=\"#DejaVuSans-65\" x=\"497.171875\"/>\n      <use xlink:href=\"#DejaVuSans-73\" x=\"558.695312\"/>\n     </g>\n    </g>\n   </g>\n   <g id=\"patch_3\">\n    <path d=\"M 80.675795 279 \nL 99.364791 279 \nL 99.364791 73.090909 \nL 80.675795 73.090909 \nz\n\" clip-path=\"url(#pe923802da3)\" style=\"fill: #648fff\"/>\n   </g>\n   <g id=\"patch_4\">\n    <path d=\"M 118.053786 279 \nL 136.742781 279 \nL 136.742781 114.272727 \nL 118.053786 114.272727 \nz\n\" clip-path=\"url(#pe923802da3)\" style=\"fill: #648fff\"/>\n   </g>\n   <g id=\"patch_5\">\n    <path d=\"M 155.431776 279 \nL 174.120772 279 \nL 174.120772 155.454545 \nL 155.431776 155.454545 \nz\n\" clip-path=\"url(#pe923802da3)\" style=\"fill: #648fff\"/>\n   </g>\n   <g id=\"patch_6\">\n    <path d=\"M 192.809767 279 \nL 211.498762 279 \nL 211.498762 237.818182 \nL 192.809767 237.818182 \nz\n\" clip-path=\"url(#pe923802da3)\" style=\"fill: #648fff\"/>\n   </g>\n   <g id=\"patch_7\">\n    <path d=\"M 230.187757 279 \nL 248.876752 279 \nL 248.876752 248.113636 \nL 230.187757 248.113636 \nz\n\" clip-path=\"url(#pe923802da3)\" style=\"fill: #648fff\"/>\n   </g>\n   <g id=\"patch_8\">\n    <path d=\"M 267.565748 279 \nL 286.254743 279 \nL 286.254743 248.113636 \nL 267.565748 248.113636 \nz\n\" clip-path=\"url(#pe923802da3)\" style=\"fill: #648fff\"/>\n   </g>\n   <g id=\"patch_9\">\n    <path d=\"M 304.943738 279 \nL 323.632733 279 \nL 323.632733 237.818182 \nL 304.943738 237.818182 \nz\n\" clip-path=\"url(#pe923802da3)\" style=\"fill: #648fff\"/>\n   </g>\n   <g id=\"patch_10\">\n    <path d=\"M 342.321728 279 \nL 361.010724 279 \nL 361.010724 237.818182 \nL 342.321728 237.818182 \nz\n\" clip-path=\"url(#pe923802da3)\" style=\"fill: #648fff\"/>\n   </g>\n   <g id=\"patch_11\">\n    <path d=\"M 379.699719 279 \nL 398.388714 279 \nL 398.388714 155.454545 \nL 379.699719 155.454545 \nz\n\" clip-path=\"url(#pe923802da3)\" style=\"fill: #648fff\"/>\n   </g>\n   <g id=\"patch_12\">\n    <path d=\"M 417.077709 279 \nL 435.766705 279 \nL 435.766705 52.5 \nL 417.077709 52.5 \nz\n\" clip-path=\"url(#pe923802da3)\" style=\"fill: #648fff\"/>\n   </g>\n   <g id=\"patch_13\">\n    <path d=\"M 62.92125 279 \nL 62.92125 7.2 \n\" style=\"fill: none; stroke: #000000; stroke-width: 0.8; stroke-linejoin: miter; stroke-linecap: square\"/>\n   </g>\n   <g id=\"patch_14\">\n    <path d=\"M 453.52125 279 \nL 453.52125 7.2 \n\" style=\"fill: none; stroke: #000000; stroke-width: 0.8; stroke-linejoin: miter; stroke-linecap: square\"/>\n   </g>\n   <g id=\"patch_15\">\n    <path d=\"M 62.92125 279 \nL 453.52125 279 \n\" style=\"fill: none; stroke: #000000; stroke-width: 0.8; stroke-linejoin: miter; stroke-linecap: square\"/>\n   </g>\n   <g id=\"patch_16\">\n    <path d=\"M 62.92125 7.2 \nL 453.52125 7.2 \n\" style=\"fill: none; stroke: #000000; stroke-width: 0.8; stroke-linejoin: miter; stroke-linecap: square\"/>\n   </g>\n   <g id=\"text_17\">\n    <!-- 0.200 -->\n    <g transform=\"translate(75.706231 60.715767)scale(0.1 -0.1)\">\n     <use xlink:href=\"#DejaVuSans-30\"/>\n     <use xlink:href=\"#DejaVuSans-2e\" x=\"63.623047\"/>\n     <use xlink:href=\"#DejaVuSans-32\" x=\"95.410156\"/>\n     <use xlink:href=\"#DejaVuSans-30\" x=\"159.033203\"/>\n     <use xlink:href=\"#DejaVuSans-30\" x=\"222.65625\"/>\n    </g>\n   </g>\n   <g id=\"text_18\">\n    <!-- 0.160 -->\n    <g transform=\"translate(113.084221 103.956676)scale(0.1 -0.1)\">\n     <use xlink:href=\"#DejaVuSans-30\"/>\n     <use xlink:href=\"#DejaVuSans-2e\" x=\"63.623047\"/>\n     <use xlink:href=\"#DejaVuSans-31\" x=\"95.410156\"/>\n     <use xlink:href=\"#DejaVuSans-36\" x=\"159.033203\"/>\n     <use xlink:href=\"#DejaVuSans-30\" x=\"222.65625\"/>\n    </g>\n   </g>\n   <g id=\"text_19\">\n    <!-- 0.120 -->\n    <g transform=\"translate(150.462211 147.197585)scale(0.1 -0.1)\">\n     <use xlink:href=\"#DejaVuSans-30\"/>\n     <use xlink:href=\"#DejaVuSans-2e\" x=\"63.623047\"/>\n     <use xlink:href=\"#DejaVuSans-31\" x=\"95.410156\"/>\n     <use xlink:href=\"#DejaVuSans-32\" x=\"159.033203\"/>\n     <use xlink:href=\"#DejaVuSans-30\" x=\"222.65625\"/>\n    </g>\n   </g>\n   <g id=\"text_20\">\n    <!-- 0.040 -->\n    <g transform=\"translate(187.840202 233.679403)scale(0.1 -0.1)\">\n     <use xlink:href=\"#DejaVuSans-30\"/>\n     <use xlink:href=\"#DejaVuSans-2e\" x=\"63.623047\"/>\n     <use xlink:href=\"#DejaVuSans-30\" x=\"95.410156\"/>\n     <use xlink:href=\"#DejaVuSans-34\" x=\"159.033203\"/>\n     <use xlink:href=\"#DejaVuSans-30\" x=\"222.65625\"/>\n    </g>\n   </g>\n   <g id=\"text_21\">\n    <!-- 0.030 -->\n    <g transform=\"translate(225.218192 244.489631)scale(0.1 -0.1)\">\n     <defs>\n      <path id=\"DejaVuSans-33\" d=\"M 2597 2516 \nQ 3050 2419 3304 2112 \nQ 3559 1806 3559 1356 \nQ 3559 666 3084 287 \nQ 2609 -91 1734 -91 \nQ 1441 -91 1130 -33 \nQ 819 25 488 141 \nL 488 750 \nQ 750 597 1062 519 \nQ 1375 441 1716 441 \nQ 2309 441 2620 675 \nQ 2931 909 2931 1356 \nQ 2931 1769 2642 2001 \nQ 2353 2234 1838 2234 \nL 1294 2234 \nL 1294 2753 \nL 1863 2753 \nQ 2328 2753 2575 2939 \nQ 2822 3125 2822 3475 \nQ 2822 3834 2567 4026 \nQ 2313 4219 1838 4219 \nQ 1578 4219 1281 4162 \nQ 984 4106 628 3988 \nL 628 4550 \nQ 988 4650 1302 4700 \nQ 1616 4750 1894 4750 \nQ 2613 4750 3031 4423 \nQ 3450 4097 3450 3541 \nQ 3450 3153 3228 2886 \nQ 3006 2619 2597 2516 \nz\n\" transform=\"scale(0.015625)\"/>\n     </defs>\n     <use xlink:href=\"#DejaVuSans-30\"/>\n     <use xlink:href=\"#DejaVuSans-2e\" x=\"63.623047\"/>\n     <use xlink:href=\"#DejaVuSans-30\" x=\"95.410156\"/>\n     <use xlink:href=\"#DejaVuSans-33\" x=\"159.033203\"/>\n     <use xlink:href=\"#DejaVuSans-30\" x=\"222.65625\"/>\n    </g>\n   </g>\n   <g id=\"text_22\">\n    <!-- 0.030 -->\n    <g transform=\"translate(262.596183 244.489631)scale(0.1 -0.1)\">\n     <use xlink:href=\"#DejaVuSans-30\"/>\n     <use xlink:href=\"#DejaVuSans-2e\" x=\"63.623047\"/>\n     <use xlink:href=\"#DejaVuSans-30\" x=\"95.410156\"/>\n     <use xlink:href=\"#DejaVuSans-33\" x=\"159.033203\"/>\n     <use xlink:href=\"#DejaVuSans-30\" x=\"222.65625\"/>\n    </g>\n   </g>\n   <g id=\"text_23\">\n    <!-- 0.040 -->\n    <g transform=\"translate(299.974173 233.679403)scale(0.1 -0.1)\">\n     <use xlink:href=\"#DejaVuSans-30\"/>\n     <use xlink:href=\"#DejaVuSans-2e\" x=\"63.623047\"/>\n     <use xlink:href=\"#DejaVuSans-30\" x=\"95.410156\"/>\n     <use xlink:href=\"#DejaVuSans-34\" x=\"159.033203\"/>\n     <use xlink:href=\"#DejaVuSans-30\" x=\"222.65625\"/>\n    </g>\n   </g>\n   <g id=\"text_24\">\n    <!-- 0.040 -->\n    <g transform=\"translate(337.352164 233.679403)scale(0.1 -0.1)\">\n     <use xlink:href=\"#DejaVuSans-30\"/>\n     <use xlink:href=\"#DejaVuSans-2e\" x=\"63.623047\"/>\n     <use xlink:href=\"#DejaVuSans-30\" x=\"95.410156\"/>\n     <use xlink:href=\"#DejaVuSans-34\" x=\"159.033203\"/>\n     <use xlink:href=\"#DejaVuSans-30\" x=\"222.65625\"/>\n    </g>\n   </g>\n   <g id=\"text_25\">\n    <!-- 0.120 -->\n    <g transform=\"translate(374.730154 147.197585)scale(0.1 -0.1)\">\n     <use xlink:href=\"#DejaVuSans-30\"/>\n     <use xlink:href=\"#DejaVuSans-2e\" x=\"63.623047\"/>\n     <use xlink:href=\"#DejaVuSans-31\" x=\"95.410156\"/>\n     <use xlink:href=\"#DejaVuSans-32\" x=\"159.033203\"/>\n     <use xlink:href=\"#DejaVuSans-30\" x=\"222.65625\"/>\n    </g>\n   </g>\n   <g id=\"text_26\">\n    <!-- 0.220 -->\n    <g transform=\"translate(412.108144 39.095313)scale(0.1 -0.1)\">\n     <use xlink:href=\"#DejaVuSans-30\"/>\n     <use xlink:href=\"#DejaVuSans-2e\" x=\"63.623047\"/>\n     <use xlink:href=\"#DejaVuSans-32\" x=\"95.410156\"/>\n     <use xlink:href=\"#DejaVuSans-32\" x=\"159.033203\"/>\n     <use xlink:href=\"#DejaVuSans-30\" x=\"222.65625\"/>\n    </g>\n   </g>\n  </g>\n </g>\n <defs>\n  <clipPath id=\"pe923802da3\">\n   <rect x=\"62.92125\" y=\"7.2\" width=\"390.6\" height=\"271.8\"/>\n  </clipPath>\n </defs>\n</svg>\n",
      "text/plain": [
       "<Figure size 504x360 with 1 Axes>"
      ]
     },
     "execution_count": 75,
     "metadata": {},
     "output_type": "execute_result"
    }
   ],
   "source": [
    "counts = result.get_counts()\n",
    "plot_histogram(counts)"
   ]
  },
  {
   "cell_type": "markdown",
   "metadata": {},
   "source": [
    "# Version complete"
   ]
  },
  {
   "cell_type": "code",
   "execution_count": 76,
   "metadata": {},
   "outputs": [],
   "source": [
    "N = 15\n",
    "nbShots = 4"
   ]
  },
  {
   "cell_type": "code",
   "execution_count": 77,
   "metadata": {},
   "outputs": [],
   "source": [
    "def qpe(a,N):\n",
    "    m = int(np.ceil(np.log2(N)))\n",
    "    t = m\n",
    "    size_eig = t\n",
    "    size_phi = m\n",
    "    eig = QuantumRegister(size_eig, name=\"eig\")\n",
    "    phi = QuantumRegister(size_phi, name=\"phi\")\n",
    "    ceig = ClassicalRegister(size_eig, name=\"ceig\")\n",
    "    qc = QuantumCircuit(eig,phi,ceig)\n",
    "    qc.x(t+m-1) # And auxiliary register\n",
    "    for i in range(0,size_eig):\n",
    "        qc.h(eig[i])\n",
    "    for i in range(0,size_eig):\n",
    "        qc.append(gateMult(a,N,size_phi).power(2**(size_eig-i-1)).control(),[i]+ list(range(t,t+m)))\n",
    "    qc.append(qft_dagger(t), range(t))\n",
    "    for i in range(0, size_eig):\n",
    "        qc.measure(eig[i],ceig[i])\n",
    "    \n",
    "    aer_sim = Aer.get_backend('aer_simulator')\n",
    "    t_qc = transpile(qc, aer_sim)\n",
    "    qobj = assemble(t_qc, shots=nbShots)\n",
    "    result = aer_sim.run(qobj, memory=True).result()\n",
    "    readings = result.get_memory()\n",
    "    phase = int(readings[0],2)/(2**m)\n",
    "    return phase"
   ]
  },
  {
   "cell_type": "code",
   "execution_count": 82,
   "metadata": {},
   "outputs": [
    {
     "name": "stdout",
     "output_type": "stream",
     "text": [
      "\n",
      "Essai 1 avec a: 13\n",
      "r impair, Ne marche pas dans l'algo de base mais devrait etre ok ici\n",
      "trouve :  15 = 3 * 5  avec r : 11\n"
     ]
    }
   ],
   "source": [
    "old_a = []\n",
    "factor_found = False\n",
    "attempt = 0\n",
    "while (not factor_found and (len(old_a) < (N-2))):\n",
    "    a = randint(2,N)\n",
    "    while a in old_a:\n",
    "        if (k != 1):\n",
    "            P = k\n",
    "            Q = N // gcd(a, N)\n",
    "            print(\"Cout de chance, Facteur trivial trouve pour a=\",a)\n",
    "            print(f\"{P} x {Q} = {N}\")\n",
    "            break\n",
    "        a = randint(0,N)\n",
    "    old_a.append(a)\n",
    "    attempt += 1\n",
    "    print(f\"\\nEssai {attempt} avec a: {a}\")\n",
    "    try:\n",
    "        phase = qpe(a,N) # Phase = s/r\n",
    "    except:#probleme matrice unitaire\n",
    "        continue\n",
    "    frac = Fraction(phase).limit_denominator(N) # Denominator should (hopefully!) tell us r\n",
    "    r = frac.denominator\n",
    "    if phase != 0:\n",
    "        if (r%2 == 1):\n",
    "            print(\"r impair, Ne marche pas dans l'algo de base mais devrait etre ok ici\")\n",
    "        # Guesses for factors are gcd(x^{r/2} ±1 , 15)\n",
    "        guesses = [gcd(a**(r//2)-1, N), gcd(a**(r//2)+1, N)]\n",
    "        if ((guesses[0] == 1 and guesses[1] == 1) or (N in guesses)):\n",
    "            print(\"perdu, pas trouve, go tenter un autre a\")\n",
    "        elif(guesses[0] != 1):\n",
    "            print(\"trouve : \",N,\"=\",guesses[0],\"*\",int(N/guesses[0]),\" avec r :\",r)\n",
    "            factor_found = True\n",
    "        elif(guesses[1] != 1):\n",
    "            print(\"trouve : \",N,\"=\",guesses[1],\"*\",int(N/guesses[1]),\" avec r :\",r)\n",
    "            factor_found = True"
   ]
  }
 ],
 "metadata": {
  "interpreter": {
   "hash": "064efa2e54fcba393added9f8f4af045cf603424a488397a6f16d7b767e4113d"
  },
  "kernelspec": {
   "display_name": "Python 3.8.9 64-bit",
   "language": "python",
   "name": "python3"
  },
  "language_info": {
   "codemirror_mode": {
    "name": "ipython",
    "version": 3
   },
   "file_extension": ".py",
   "mimetype": "text/x-python",
   "name": "python",
   "nbconvert_exporter": "python",
   "pygments_lexer": "ipython3",
   "version": "3.8.9"
  },
  "orig_nbformat": 4
 },
 "nbformat": 4,
 "nbformat_minor": 2
}
